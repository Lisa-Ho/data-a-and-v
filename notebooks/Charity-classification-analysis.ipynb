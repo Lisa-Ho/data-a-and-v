{
 "cells": [
  {
   "cell_type": "markdown",
   "id": "b0e35a2f",
   "metadata": {},
   "source": [
    "# Charity classification analysis"
   ]
  },
  {
   "cell_type": "markdown",
   "id": "240692ed",
   "metadata": {},
   "source": [
    "Analysis using a new dataset that classifies and tags all active and inactive charities according to their activity/sector. This analysis explores how number of charities in specific activities have changed, whether specific sectors were more \"trendy\" at some point and whether others have died out."
   ]
  },
  {
   "cell_type": "markdown",
   "id": "ace9c05e",
   "metadata": {},
   "source": [
    "For this analysis we need a number of different modules. "
   ]
  },
  {
   "cell_type": "code",
   "execution_count": 92,
   "id": "eb30a641",
   "metadata": {},
   "outputs": [],
   "source": [
    "import pandas as pd\n",
    "import numpy as np\n",
    "import matplotlib.pyplot as plt\n",
    "from datetime import date\n",
    "import os\n",
    "import ast\n",
    "\n",
    "%matplotlib inline"
   ]
  },
  {
   "cell_type": "markdown",
   "id": "06da3ea3",
   "metadata": {},
   "source": [
    "## Import data"
   ]
  },
  {
   "cell_type": "markdown",
   "id": "8df2ade5",
   "metadata": {},
   "source": [
    "We will define the root of the repository, so that we can import files from the folder more easily. "
   ]
  },
  {
   "cell_type": "code",
   "execution_count": 4,
   "id": "48685a89",
   "metadata": {},
   "outputs": [],
   "source": [
    "root = os.path.abspath(os.path.join(os.getcwd(), \"..\"))"
   ]
  },
  {
   "cell_type": "markdown",
   "id": "dcf232b5",
   "metadata": {},
   "source": [
    "First we need to [import data](https://charityclassification.org.uk/data/data-downloads/) from the Charity Classification project. We will focus on the ICNPTSO classifications for now. "
   ]
  },
  {
   "cell_type": "code",
   "execution_count": 6,
   "id": "47c59494",
   "metadata": {},
   "outputs": [],
   "source": [
    "active_icnptso = pd.read_csv(os.path.join(root, \"data\\\\raw\\\\charities_active-icnptso.csv\"))\n",
    "inactive_icnptso = pd.read_csv(os.path.join(root, \"data\\\\raw\\\\charities_inactive-icnptso.csv\"))\n",
    "icnptso = pd.read_csv(os.path.join(root, \"data\\\\raw\\\\icnptso.csv\"))"
   ]
  },
  {
   "cell_type": "markdown",
   "id": "fad7848e",
   "metadata": {},
   "source": [
    "Then we import data from the Charity Commission register using [FindThatCharity](https://findthatcharity.uk/orgid/type/registered-charity). This includes all active and removed charities registered in the UK as of November 2021. "
   ]
  },
  {
   "cell_type": "code",
   "execution_count": 7,
   "id": "5f83210d",
   "metadata": {},
   "outputs": [
    {
     "name": "stderr",
     "output_type": "stream",
     "text": [
      "C:\\Users\\lisa.hornung\\anaconda3\\envs\\py3_charity\\lib\\site-packages\\IPython\\core\\interactiveshell.py:3165: DtypeWarning: Columns (2,3,7,9) have mixed types.Specify dtype option on import or set low_memory=False.\n",
      "  has_raised = await self.run_ast_nodes(code_ast.body, cell_name,\n"
     ]
    }
   ],
   "source": [
    "charities = pd.read_csv(os.path.join(root, \"data\\\\raw\\\\registered-charity.csv\"))"
   ]
  },
  {
   "cell_type": "markdown",
   "id": "5b6f9355",
   "metadata": {},
   "source": [
    "## Cleaning"
   ]
  },
  {
   "cell_type": "markdown",
   "id": "902b4630",
   "metadata": {},
   "source": [
    "### Check"
   ]
  },
  {
   "cell_type": "markdown",
   "id": "f50b6d1b",
   "metadata": {},
   "source": [
    "First we want to get a feel for how big the different dataframes are and what variables they contain."
   ]
  },
  {
   "cell_type": "code",
   "execution_count": 15,
   "id": "424afcaa",
   "metadata": {
    "scrolled": true
   },
   "outputs": [
    {
     "name": "stdout",
     "output_type": "stream",
     "text": [
      "202222\n",
      "           org_id icnptso_code  icnptso_code_probability icnptso_code_source\n",
      "0  GB-CHC-1000000          B32                     0.358            ml_model\n",
      "1  GB-CHC-1000001          A11                     0.836            ml_model\n",
      "\n",
      "\n",
      "191438\n",
      "           org_id icnptso_code  icnptso_code_probability icnptso_code_source\n",
      "0  GB-CHC-1000004          A11                     1.000            ml_model\n",
      "1  GB-CHC-1000006          D13                     0.697            ml_model\n",
      "\n",
      "\n",
      "127\n",
      "  Section Group Sub-group                                             Title  \\\n",
      "0       A   NaN       NaN  Culture, communication and recreation activities   \n",
      "1       A   A10       NaN                                  Culture and arts   \n",
      "\n",
      "           Notes  \n",
      "0  ICNPO Group 1  \n",
      "1            NaN  \n",
      "\n",
      "\n",
      "394035\n",
      "               id                         name charityNumber companyNumber  \\\n",
      "0  GB-CHC-1000000  THE ROYAL ANNIVERSARY TRUST       1000000           NaN   \n",
      "1  GB-CHC-1000001          THE ARTS FOUNDATION       1000001           NaN   \n",
      "\n",
      "  postalCode                               url  latestIncome latestIncomeDate  \\\n",
      "0   SW1P 3BT  www.royalanniversarytrust.org.uk      101992.0       2021-04-05   \n",
      "1   PO18 0LH          www.artsfoundation.co.uk       91129.0       2020-12-31   \n",
      "\n",
      "  dateRegistered dateRemoved  active                      dateModified  \\\n",
      "0     1990-08-03         NaN    True  2021-11-18 02:15:30.402404+00:00   \n",
      "1     1990-08-02         NaN    True  2021-11-18 02:15:30.402404+00:00   \n",
      "\n",
      "               orgIDs                                   organisationType  \\\n",
      "0  ['GB-CHC-1000000']  ['registered-charity', 'registered-charity-eng...   \n",
      "1  ['GB-CHC-1000001']  ['registered-charity', 'registered-charity-eng...   \n",
      "\n",
      "  organisationTypePrimary source  \n",
      "0      Registered Charity   ccew  \n",
      "1      Registered Charity   ccew  \n",
      "\n",
      "\n"
     ]
    }
   ],
   "source": [
    "dataframes = [active_icnptso,inactive_icnptso,icnptso, charities ]\n",
    "\n",
    "for df in dataframes:\n",
    "    print(len(df))\n",
    "    print(df.head(2))\n",
    "    print(\"\")\n",
    "    print(\"\")"
   ]
  },
  {
   "cell_type": "markdown",
   "id": "7442b8d8",
   "metadata": {},
   "source": [
    "### Merging"
   ]
  },
  {
   "cell_type": "markdown",
   "id": "c94b9b3a",
   "metadata": {},
   "source": [
    "Now we are going to merge classifications for active and inactive into one dataframe."
   ]
  },
  {
   "cell_type": "code",
   "execution_count": 71,
   "id": "5feb88ec",
   "metadata": {},
   "outputs": [
    {
     "data": {
      "text/html": [
       "<div>\n",
       "<style scoped>\n",
       "    .dataframe tbody tr th:only-of-type {\n",
       "        vertical-align: middle;\n",
       "    }\n",
       "\n",
       "    .dataframe tbody tr th {\n",
       "        vertical-align: top;\n",
       "    }\n",
       "\n",
       "    .dataframe thead th {\n",
       "        text-align: right;\n",
       "    }\n",
       "</style>\n",
       "<table border=\"1\" class=\"dataframe\">\n",
       "  <thead>\n",
       "    <tr style=\"text-align: right;\">\n",
       "      <th></th>\n",
       "      <th>org_id</th>\n",
       "      <th>icnptso_code</th>\n",
       "      <th>icnptso_code_probability</th>\n",
       "      <th>icnptso_code_source</th>\n",
       "    </tr>\n",
       "  </thead>\n",
       "  <tbody>\n",
       "    <tr>\n",
       "      <th>0</th>\n",
       "      <td>GB-CHC-1000000</td>\n",
       "      <td>B32</td>\n",
       "      <td>0.358</td>\n",
       "      <td>ml_model</td>\n",
       "    </tr>\n",
       "    <tr>\n",
       "      <th>1</th>\n",
       "      <td>GB-CHC-1000001</td>\n",
       "      <td>A11</td>\n",
       "      <td>0.836</td>\n",
       "      <td>ml_model</td>\n",
       "    </tr>\n",
       "  </tbody>\n",
       "</table>\n",
       "</div>"
      ],
      "text/plain": [
       "           org_id icnptso_code  icnptso_code_probability icnptso_code_source\n",
       "0  GB-CHC-1000000          B32                     0.358            ml_model\n",
       "1  GB-CHC-1000001          A11                     0.836            ml_model"
      ]
     },
     "execution_count": 71,
     "metadata": {},
     "output_type": "execute_result"
    }
   ],
   "source": [
    "all_icnptso = pd.concat([active_icnptso,inactive_icnptso])\n",
    "all_icnptso.head(2)"
   ]
  },
  {
   "cell_type": "markdown",
   "id": "39a54d34",
   "metadata": {},
   "source": [
    "Then we want to merge the classifications to data from the Charity Commission register and start slowly building our dataframe (df) for analysis."
   ]
  },
  {
   "cell_type": "code",
   "execution_count": 88,
   "id": "f5b2cb84",
   "metadata": {},
   "outputs": [
    {
     "data": {
      "text/html": [
       "<div>\n",
       "<style scoped>\n",
       "    .dataframe tbody tr th:only-of-type {\n",
       "        vertical-align: middle;\n",
       "    }\n",
       "\n",
       "    .dataframe tbody tr th {\n",
       "        vertical-align: top;\n",
       "    }\n",
       "\n",
       "    .dataframe thead th {\n",
       "        text-align: right;\n",
       "    }\n",
       "</style>\n",
       "<table border=\"1\" class=\"dataframe\">\n",
       "  <thead>\n",
       "    <tr style=\"text-align: right;\">\n",
       "      <th></th>\n",
       "      <th>id</th>\n",
       "      <th>name</th>\n",
       "      <th>charityNumber</th>\n",
       "      <th>dateRegistered</th>\n",
       "      <th>dateRemoved</th>\n",
       "      <th>active</th>\n",
       "      <th>icnptso_code</th>\n",
       "      <th>icnptso_code_probability</th>\n",
       "      <th>icnptso_code_source</th>\n",
       "    </tr>\n",
       "  </thead>\n",
       "  <tbody>\n",
       "    <tr>\n",
       "      <th>0</th>\n",
       "      <td>GB-CHC-1000000</td>\n",
       "      <td>THE ROYAL ANNIVERSARY TRUST</td>\n",
       "      <td>1000000</td>\n",
       "      <td>1990-08-03</td>\n",
       "      <td>NaN</td>\n",
       "      <td>True</td>\n",
       "      <td>B32</td>\n",
       "      <td>0.358</td>\n",
       "      <td>ml_model</td>\n",
       "    </tr>\n",
       "    <tr>\n",
       "      <th>1</th>\n",
       "      <td>GB-CHC-1000001</td>\n",
       "      <td>THE ARTS FOUNDATION</td>\n",
       "      <td>1000001</td>\n",
       "      <td>1990-08-02</td>\n",
       "      <td>NaN</td>\n",
       "      <td>True</td>\n",
       "      <td>A11</td>\n",
       "      <td>0.836</td>\n",
       "      <td>ml_model</td>\n",
       "    </tr>\n",
       "  </tbody>\n",
       "</table>\n",
       "</div>"
      ],
      "text/plain": [
       "               id                         name charityNumber dateRegistered  \\\n",
       "0  GB-CHC-1000000  THE ROYAL ANNIVERSARY TRUST       1000000     1990-08-03   \n",
       "1  GB-CHC-1000001          THE ARTS FOUNDATION       1000001     1990-08-02   \n",
       "\n",
       "  dateRemoved  active icnptso_code  icnptso_code_probability  \\\n",
       "0         NaN    True          B32                     0.358   \n",
       "1         NaN    True          A11                     0.836   \n",
       "\n",
       "  icnptso_code_source  \n",
       "0            ml_model  \n",
       "1            ml_model  "
      ]
     },
     "execution_count": 88,
     "metadata": {},
     "output_type": "execute_result"
    }
   ],
   "source": [
    "#select only columns we are interested in\n",
    "df = charities[['id', 'name', 'charityNumber', 'dateRegistered', 'dateRemoved', 'active']]\n",
    "\n",
    "#join classification data\n",
    "df = pd.merge(df, all_icnptso, left_on= df[\"id\"], right_on=all_icnptso[\"org_id\"], how='left')\n",
    "\n",
    "#remove columns we don't need\n",
    "df = df.drop(columns=[\"key_0\", \"org_id\"])\n",
    "\n",
    "df.head(2)"
   ]
  },
  {
   "cell_type": "markdown",
   "id": "bd32f983",
   "metadata": {},
   "source": [
    "Now we want to clean up the icnptso categories a bit more and merge in the titles."
   ]
  },
  {
   "cell_type": "code",
   "execution_count": 89,
   "id": "2bc47b6f",
   "metadata": {},
   "outputs": [],
   "source": [
    "#get group\n",
    "df[\"icnptso_group\"] = df[\"icnptso_code\"].str[0]\n",
    "\n",
    "#get title for group\n",
    "df = pd.merge(df, icnptso[[\"Section\", \"Title\"]], left_on = df[\"icnptso_group\"], right_on=icnptso[\"Section\"], how='left')\n",
    "df = df.drop(columns=[\"key_0\", \"Section\"]).rename(columns={\"Title\": \"icnptso_group_title\"})\n",
    "\n",
    "#get title for subgroup\n",
    "df = pd.merge(df, icnptso[[\"Sub-group\", \"Title\"]], left_on = df[\"icnptso_code\"], right_on=icnptso[\"Sub-group\"], how='left')\n",
    "df = df.drop(columns=[\"key_0\", \"Sub-group\"]).rename(columns={\"Title\": \"icnptso_title\"})"
   ]
  },
  {
   "cell_type": "markdown",
   "id": "6a00fae3",
   "metadata": {},
   "source": [
    "### Dates"
   ]
  },
  {
   "cell_type": "code",
   "execution_count": 103,
   "id": "afed0c5c",
   "metadata": {},
   "outputs": [],
   "source": [
    "#convert columns to pandas datetime\n",
    "df[\"dateRemoved\"] = pd.to_datetime(df[\"dateRemoved\"])\n",
    "df[\"dateRegistered\"] = pd.to_datetime(df[\"dateRegistered\"])\n",
    "\n",
    "#get years from date\n",
    "df[\"yearRemoved\"] = df[\"dateRemoved\"].dt.year\n",
    "df[\"yearRegistered\"] = df[\"dateRegistered\"].dt.year"
   ]
  },
  {
   "cell_type": "markdown",
   "id": "191635ea",
   "metadata": {},
   "source": [
    "## Analysis"
   ]
  },
  {
   "cell_type": "code",
   "execution_count": null,
   "id": "513f4ff0",
   "metadata": {},
   "outputs": [],
   "source": []
  }
 ],
 "metadata": {
  "kernelspec": {
   "display_name": "Python 3",
   "language": "python",
   "name": "python3"
  },
  "language_info": {
   "codemirror_mode": {
    "name": "ipython",
    "version": 3
   },
   "file_extension": ".py",
   "mimetype": "text/x-python",
   "name": "python",
   "nbconvert_exporter": "python",
   "pygments_lexer": "ipython3",
   "version": "3.9.5"
  }
 },
 "nbformat": 4,
 "nbformat_minor": 5
}

{
 "cells": [
  {
   "cell_type": "code",
   "execution_count": 25,
   "metadata": {},
   "outputs": [],
   "source": [
    "import tweepy\n",
    "import configparser\n",
    "import datetime\n",
    "import pandas as pd\n",
    "import emoji\n",
    "import advertools as adv"
   ]
  },
  {
   "cell_type": "code",
   "execution_count": 2,
   "metadata": {},
   "outputs": [],
   "source": [
    "#get API credentials\n",
    "config = configparser.ConfigParser()\n",
    "config.read(\"credentials.cfg\")\n",
    "bearer_token = config[\"Twitter API\"][\"bearer_token\"]\n",
    "\n",
    "#set token\n",
    "client = tweepy.Client(bearer_token=bearer_token)"
   ]
  },
  {
   "attachments": {},
   "cell_type": "markdown",
   "metadata": {},
   "source": [
    "# Get data"
   ]
  },
  {
   "cell_type": "code",
   "execution_count": 45,
   "metadata": {},
   "outputs": [],
   "source": [
    "query = '#DiabloIV -is:retweet lang:en'\n",
    "#tweets = client.search_recent_tweets(query=query, tweet_fields=['context_annotations', 'created_at'], max_results=100)\n",
    "paginator = tweepy.Paginator(client.search_recent_tweets, query=query, tweet_fields=['context_annotations', 'created_at'], max_results=100,\n",
    "                            start_time=datetime.datetime(2023, 6,2, 1, 0, 0)).flatten()"
   ]
  },
  {
   "cell_type": "code",
   "execution_count": 46,
   "metadata": {},
   "outputs": [
    {
     "data": {
      "text/html": [
       "<div>\n",
       "<style scoped>\n",
       "    .dataframe tbody tr th:only-of-type {\n",
       "        vertical-align: middle;\n",
       "    }\n",
       "\n",
       "    .dataframe tbody tr th {\n",
       "        vertical-align: top;\n",
       "    }\n",
       "\n",
       "    .dataframe thead th {\n",
       "        text-align: right;\n",
       "    }\n",
       "</style>\n",
       "<table border=\"1\" class=\"dataframe\">\n",
       "  <thead>\n",
       "    <tr style=\"text-align: right;\">\n",
       "      <th></th>\n",
       "      <th>text</th>\n",
       "      <th>created_at</th>\n",
       "      <th>context</th>\n",
       "    </tr>\n",
       "  </thead>\n",
       "  <tbody>\n",
       "    <tr>\n",
       "      <th>0</th>\n",
       "      <td>Demon Hunter all the way baby! #DiabloIV https...</td>\n",
       "      <td>2023-06-03 19:22:00+00:00</td>\n",
       "      <td>[{'domain': {'id': '45', 'name': 'Brand Vertic...</td>\n",
       "    </tr>\n",
       "    <tr>\n",
       "      <th>1</th>\n",
       "      <td>My boy looking Beastly #DiabloIV @Blizzard_Ent...</td>\n",
       "      <td>2023-06-03 19:21:59+00:00</td>\n",
       "      <td>[{'domain': {'id': '29', 'name': 'Events [Enti...</td>\n",
       "    </tr>\n",
       "    <tr>\n",
       "      <th>2</th>\n",
       "      <td>@MonstersCoins Yo check out this new gaming co...</td>\n",
       "      <td>2023-06-03 19:21:39+00:00</td>\n",
       "      <td>[{'domain': {'id': '45', 'name': 'Brand Vertic...</td>\n",
       "    </tr>\n",
       "    <tr>\n",
       "      <th>3</th>\n",
       "      <td>My best #DiabloIV experience so far.. https://...</td>\n",
       "      <td>2023-06-03 19:21:37+00:00</td>\n",
       "      <td>[{'domain': {'id': '45', 'name': 'Brand Vertic...</td>\n",
       "    </tr>\n",
       "    <tr>\n",
       "      <th>4</th>\n",
       "      <td>@cryptogems_ Yo check out this new gaming comm...</td>\n",
       "      <td>2023-06-03 19:21:22+00:00</td>\n",
       "      <td>[{'domain': {'id': '45', 'name': 'Brand Vertic...</td>\n",
       "    </tr>\n",
       "    <tr>\n",
       "      <th>...</th>\n",
       "      <td>...</td>\n",
       "      <td>...</td>\n",
       "      <td>...</td>\n",
       "    </tr>\n",
       "    <tr>\n",
       "      <th>18500</th>\n",
       "      <td>Guys on #Playstation5 #DiabloIv is not letting...</td>\n",
       "      <td>2023-06-02 01:00:11+00:00</td>\n",
       "      <td>[{'domain': {'id': '29', 'name': 'Events [Enti...</td>\n",
       "    </tr>\n",
       "    <tr>\n",
       "      <th>18501</th>\n",
       "      <td>#PS5Share, #DiabloIV 😔 we'll get there at some...</td>\n",
       "      <td>2023-06-02 01:00:11+00:00</td>\n",
       "      <td>[{'domain': {'id': '45', 'name': 'Brand Vertic...</td>\n",
       "    </tr>\n",
       "    <tr>\n",
       "      <th>18502</th>\n",
       "      <td>How to Force Move and Attack in Place in Diabl...</td>\n",
       "      <td>2023-06-02 01:00:02+00:00</td>\n",
       "      <td>[{'domain': {'id': '45', 'name': 'Brand Vertic...</td>\n",
       "    </tr>\n",
       "    <tr>\n",
       "      <th>18503</th>\n",
       "      <td>LIVE 🩸 Ghouls the gates of hell is open &amp;amp; ...</td>\n",
       "      <td>2023-06-02 01:00:01+00:00</td>\n",
       "      <td>[{'domain': {'id': '29', 'name': 'Events [Enti...</td>\n",
       "    </tr>\n",
       "    <tr>\n",
       "      <th>18504</th>\n",
       "      <td>Playing some prerelease #DiabloIV  4 patiently...</td>\n",
       "      <td>2023-06-02 01:00:00+00:00</td>\n",
       "      <td>[{'domain': {'id': '45', 'name': 'Brand Vertic...</td>\n",
       "    </tr>\n",
       "  </tbody>\n",
       "</table>\n",
       "<p>18505 rows × 3 columns</p>\n",
       "</div>"
      ],
      "text/plain": [
       "                                                    text  \\\n",
       "0      Demon Hunter all the way baby! #DiabloIV https...   \n",
       "1      My boy looking Beastly #DiabloIV @Blizzard_Ent...   \n",
       "2      @MonstersCoins Yo check out this new gaming co...   \n",
       "3      My best #DiabloIV experience so far.. https://...   \n",
       "4      @cryptogems_ Yo check out this new gaming comm...   \n",
       "...                                                  ...   \n",
       "18500  Guys on #Playstation5 #DiabloIv is not letting...   \n",
       "18501  #PS5Share, #DiabloIV 😔 we'll get there at some...   \n",
       "18502  How to Force Move and Attack in Place in Diabl...   \n",
       "18503  LIVE 🩸 Ghouls the gates of hell is open &amp; ...   \n",
       "18504  Playing some prerelease #DiabloIV  4 patiently...   \n",
       "\n",
       "                     created_at  \\\n",
       "0     2023-06-03 19:22:00+00:00   \n",
       "1     2023-06-03 19:21:59+00:00   \n",
       "2     2023-06-03 19:21:39+00:00   \n",
       "3     2023-06-03 19:21:37+00:00   \n",
       "4     2023-06-03 19:21:22+00:00   \n",
       "...                         ...   \n",
       "18500 2023-06-02 01:00:11+00:00   \n",
       "18501 2023-06-02 01:00:11+00:00   \n",
       "18502 2023-06-02 01:00:02+00:00   \n",
       "18503 2023-06-02 01:00:01+00:00   \n",
       "18504 2023-06-02 01:00:00+00:00   \n",
       "\n",
       "                                                 context  \n",
       "0      [{'domain': {'id': '45', 'name': 'Brand Vertic...  \n",
       "1      [{'domain': {'id': '29', 'name': 'Events [Enti...  \n",
       "2      [{'domain': {'id': '45', 'name': 'Brand Vertic...  \n",
       "3      [{'domain': {'id': '45', 'name': 'Brand Vertic...  \n",
       "4      [{'domain': {'id': '45', 'name': 'Brand Vertic...  \n",
       "...                                                  ...  \n",
       "18500  [{'domain': {'id': '29', 'name': 'Events [Enti...  \n",
       "18501  [{'domain': {'id': '45', 'name': 'Brand Vertic...  \n",
       "18502  [{'domain': {'id': '45', 'name': 'Brand Vertic...  \n",
       "18503  [{'domain': {'id': '29', 'name': 'Events [Enti...  \n",
       "18504  [{'domain': {'id': '45', 'name': 'Brand Vertic...  \n",
       "\n",
       "[18505 rows x 3 columns]"
      ]
     },
     "execution_count": 46,
     "metadata": {},
     "output_type": "execute_result"
    }
   ],
   "source": [
    "data = {\"text\": [], \"created_at\": [], \"context\":[]}\n",
    "\n",
    "for response in paginator:\n",
    "    data[\"text\"].append(response.text)\n",
    "    data[\"created_at\"].append(response.created_at)\n",
    "    if len(response.context_annotations) > 0:\n",
    "        data[\"context\"].append(response.context_annotations)\n",
    "    else:\n",
    "        data[\"context\"].append(\"\")\n",
    "df = pd.DataFrame.from_dict(data)\n",
    "df"
   ]
  },
  {
   "attachments": {},
   "cell_type": "markdown",
   "metadata": {},
   "source": [
    "# Analyse"
   ]
  },
  {
   "attachments": {},
   "cell_type": "markdown",
   "metadata": {},
   "source": [
    "## Emojis"
   ]
  },
  {
   "cell_type": "code",
   "execution_count": 47,
   "metadata": {},
   "outputs": [
    {
     "data": {
      "text/plain": [
       "dict_keys(['emoji', 'emoji_text', 'emoji_flat', 'emoji_flat_text', 'emoji_counts', 'emoji_freq', 'top_emoji', 'top_emoji_text', 'top_emoji_groups', 'top_emoji_sub_groups', 'overview'])"
      ]
     },
     "execution_count": 47,
     "metadata": {},
     "output_type": "execute_result"
    }
   ],
   "source": [
    "emoji_summary = adv.extract_emoji(df['text'])\n",
    "emoji_summary.keys()"
   ]
  },
  {
   "cell_type": "code",
   "execution_count": 48,
   "metadata": {},
   "outputs": [
    {
     "data": {
      "text/plain": [
       "{'num_posts': 18505,\n",
       " 'num_emoji': 10504,\n",
       " 'emoji_per_post': 0.5676303701702242,\n",
       " 'unique_emoji': 670}"
      ]
     },
     "execution_count": 48,
     "metadata": {},
     "output_type": "execute_result"
    }
   ],
   "source": [
    "emoji_summary['overview']"
   ]
  },
  {
   "cell_type": "code",
   "execution_count": 49,
   "metadata": {},
   "outputs": [
    {
     "data": {
      "text/plain": [
       "[('😂', 925),\n",
       " ('®', 840),\n",
       " ('😏', 770),\n",
       " ('🔥', 644),\n",
       " ('👇', 269),\n",
       " ('🔴', 225),\n",
       " ('😈', 210),\n",
       " ('😆', 202),\n",
       " ('❤️', 201),\n",
       " ('🌎', 170),\n",
       " ('🛍️', 163),\n",
       " ('🤣', 148),\n",
       " ('🎮', 141),\n",
       " ('🚨', 135),\n",
       " ('📷', 130),\n",
       " ('👀', 127),\n",
       " ('😭', 113),\n",
       " ('✅', 112),\n",
       " ('💥', 102),\n",
       " ('😍', 94),\n",
       " ('😅', 89),\n",
       " ('⬇️', 89),\n",
       " ('🚀', 87),\n",
       " ('👉', 80),\n",
       " ('💀', 77),\n",
       " ('✨', 76),\n",
       " ('💯', 75),\n",
       " ('🎁', 72),\n",
       " ('🥰', 71),\n",
       " ('😎', 66),\n",
       " ('🖤', 65),\n",
       " ('🙏', 64),\n",
       " ('🤩', 62),\n",
       " ('💜', 55),\n",
       " ('😁', 52),\n",
       " ('📣', 51),\n",
       " ('💰', 48),\n",
       " ('🤔', 46),\n",
       " ('💸', 44),\n",
       " ('⚔️', 42),\n",
       " ('👍', 42),\n",
       " ('🎊', 41),\n",
       " ('🥵', 39),\n",
       " ('➡️', 38),\n",
       " ('🎉', 37),\n",
       " ('‼️', 36),\n",
       " ('🌈', 36),\n",
       " ('💨', 36),\n",
       " ('💚', 34),\n",
       " ('🥺', 34)]"
      ]
     },
     "execution_count": 49,
     "metadata": {},
     "output_type": "execute_result"
    }
   ],
   "source": [
    "emoji_summary['top_emoji'][:50]"
   ]
  }
 ],
 "metadata": {
  "kernelspec": {
   "display_name": "twitter",
   "language": "python",
   "name": "python3"
  },
  "language_info": {
   "codemirror_mode": {
    "name": "ipython",
    "version": 3
   },
   "file_extension": ".py",
   "mimetype": "text/x-python",
   "name": "python",
   "nbconvert_exporter": "python",
   "pygments_lexer": "ipython3",
   "version": "3.11.3"
  },
  "orig_nbformat": 4
 },
 "nbformat": 4,
 "nbformat_minor": 2
}

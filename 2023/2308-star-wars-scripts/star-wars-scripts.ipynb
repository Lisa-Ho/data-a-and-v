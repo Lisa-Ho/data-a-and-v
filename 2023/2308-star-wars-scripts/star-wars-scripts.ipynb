{
 "cells": [
  {
   "cell_type": "code",
   "execution_count": 1,
   "metadata": {},
   "outputs": [],
   "source": [
    "import pandas as pd\n",
    "import numpy as np\n",
    "import matplotlib.pyplot as plt\n",
    "\n",
    "%matplotlib inline"
   ]
  },
  {
   "cell_type": "code",
   "execution_count": 2,
   "metadata": {},
   "outputs": [],
   "source": [
    "files = [\"SW_EpisodeIV.txt\", \"SW_EpisodeV.txt\", \"SW_EpisodeVI.txt\"]"
   ]
  },
  {
   "cell_type": "code",
   "execution_count": 209,
   "metadata": {},
   "outputs": [
    {
     "data": {
      "text/plain": [
       "id                                           1.0\n",
       "from                                     QUI-GON\n",
       "to                                       CAPTAIN\n",
       "text                                    Captain.\n",
       "text to check                                NaN\n",
       "where            INT. REPUBLIC CRUISER - COCKPIT\n",
       "number                                         1\n",
       "nouns                                          0\n",
       "determiners                                    0\n",
       "conjuctions                                    0\n",
       "adjectives                                     0\n",
       "prepositions                                   0\n",
       "pronouns                                       0\n",
       "verbs                                          0\n",
       "adverbs                                        0\n",
       "undefined                                      0\n",
       "time                                           9\n",
       "Name: 0, dtype: object"
      ]
     },
     "execution_count": 209,
     "metadata": {},
     "output_type": "execute_result"
    }
   ],
   "source": [
    "# load files\n",
    "df = pd.read_csv(\"star_wars_1_data.csv\", sep=\";\")\n",
    "df.iloc[0]"
   ]
  },
  {
   "cell_type": "code",
   "execution_count": 212,
   "metadata": {},
   "outputs": [],
   "source": [
    "# fix in data\n",
    "df.loc[df[\"to\"]==\"QUI-GON :Your negotiations seem\", \"text\"] = \"Your negotiations seem\"\n",
    "df[\"to\"] = df[\"to\"].str.replace(\"QUI-GON :Your negotiations seem\", \"QUI-GON\")\n",
    "\n",
    "df.loc[df[\"to\"]==\"ANAKIN: The forward stabalizer.\", \"text\"] = \"The forward stabalizer\"\n",
    "df[\"to\"] = df[\"to\"].str.replace(\"ANAKIN: The forward stabalizer.\", \"ANAKIN\")\n",
    "\n",
    "df.loc[df[\"to\"]==\"QUI-GON :They wouldn't dare.\", \"text\"] = \"They wouldn't dare.\"\n",
    "df[\"to\"] = df[\"to\"].str.replace(\"QUI-GON :They wouldn't dare.\", \"QUI-GON\")\n",
    "\n",
    "\n",
    "# replace incorrect names\n",
    "names_to_replace = { \"PALAPATINE\": \"PALPATINE\",\n",
    "                    \"APDME\": \"PADME\",\n",
    "                    \"CONTROLER\": \"CONTROLLER\",\n",
    "                    \"ANAKAIN\": \"ANAKIN\",\n",
    "                    \"AMADILA\": \"AMIDALA\",\n",
    "                    \"CATP. PANAKA\":\"CAPT. PANAKA\",\n",
    "                    \"CAPR. PANAKA\": \"CAPT. PANAKA\",\n",
    "                    \"MACE IWNDU\":\"MACE WINDU\",\n",
    "                    \"ARTOO\": \"R2D2\",\n",
    "                    \"THREEPIO\": \"C-3PO\",\n",
    "                    \"PILOTS\": \"PILOT\",\n",
    "                    \"OOM-CAPTAIN\": \"CAPTAIN\"\n",
    "                }\n",
    "\n",
    "for old_text, new_text in names_to_replace.items():\n",
    "    df[\"to\"] = df[\"to\"].str.replace(old_text,new_text)\n",
    "    df[\"from\"] = df[\"from\"].str.replace(old_text,new_text)"
   ]
  },
  {
   "cell_type": "code",
   "execution_count": 221,
   "metadata": {},
   "outputs": [
    {
     "data": {
      "text/plain": [
       "Index(['KI-ADI', 'KITSTER', 'TC-14', 'CAPTAIN', 'DOFINE', 'TEY HOW', 'RABE',\n",
       "       'GUARD DROID', 'DARTH MAUL', 'GENERAL CEEL', 'OWO-1', 'LOTT DOD',\n",
       "       'JABBA', 'QUI-GON GUARD DROID', 'CAPT. TARPALS', 'AKS MOE',\n",
       "       'MAS AMEDDA', 'GUARD', 'c', 'SABE', 'BRAVO TWO', 'GUNGAN LOOKOUT',\n",
       "       'ODY', 'PILOT', 'TC14', 'VENDOR', 'CAPORAL', 'SEEK', 'AMEE', 'WALD',\n",
       "       'JIRA', 'CONTROLLER', 'BRAVO THREE', 'SENAT', 'SOLDATS', 'RACERS',\n",
       "       'SOLDIER', 'DROIDS'],\n",
       "      dtype='object')"
      ]
     },
     "execution_count": 221,
     "metadata": {},
     "output_type": "execute_result"
    }
   ],
   "source": [
    "# Identify secondary actors (speak/spoken to < 10 times)\n",
    "_from = df[\"from\"].value_counts().to_frame()\n",
    "_to = df[\"to\"].value_counts().to_frame()\n",
    "\n",
    "total = pd.concat([_from, _to], axis=1)\n",
    "total[\"Total\"] = total.sum(axis=1)\n",
    "\n",
    "total.to_csv(\"secondary_actors.csv\")\n",
    "total[total[\"Total\"]<10].index"
   ]
  },
  {
   "cell_type": "code",
   "execution_count": 222,
   "metadata": {},
   "outputs": [],
   "source": [
    "# get clean data for chord diagram\n",
    "df[\"to_clean\"] = df[\"to\"]\n",
    "df[\"from_clean\"] = df[\"from\"]\n",
    "\n",
    "# rename secondary actors\n",
    "for name in total[total[\"Total\"]<10].index:\n",
    "    df[\"to_clean\"] = df[\"to_clean\"].str.replace(name, \"Other\")\n",
    "    df[\"from_clean\"] = df[\"from_clean\"].str.replace(name, \"Other\")"
   ]
  },
  {
   "cell_type": "code",
   "execution_count": 241,
   "metadata": {},
   "outputs": [],
   "source": [
    "# exlude unknown speakers\n",
    "filter = (~df[\"to_clean\"].isin([\"X_X\", \"PUBLIC\", \"SPEAKER-A\", \"SPEAKER B\"])) & (~df[\"from_clean\"].isin([\"X_X\", \"PUBLIC\", \"SPEAKER-A\", \"SPEAKER B\"]))\n",
    "chord = df[filter][[\"from_clean\", \"to_clean\"]].value_counts().to_frame().reset_index()\n",
    "\n",
    "# sort by total appearances\n",
    "chord = pd.merge(chord, total[\"Total\"], left_on=\"from_clean\", right_index=True, how=\"left\")\n",
    "chord.sort_values(by=\"Total\", ascending=False).to_csv(\"test_chord.csv\")"
   ]
  },
  {
   "cell_type": "code",
   "execution_count": 242,
   "metadata": {},
   "outputs": [],
   "source": [
    "# test chord\n",
    "filter = (df[\"to_clean\"]!=\"X_X\") & (df[\"from_clean\"]!=\"X_X\")\n",
    "chord2 = df[filter].groupby([\"from_clean\", \"to_clean\"])[\"number\"].sum().to_frame()\n",
    "\n",
    "chord2.to_csv(\"test_chord2.csv\")"
   ]
  },
  {
   "cell_type": "code",
   "execution_count": 236,
   "metadata": {},
   "outputs": [
    {
     "data": {
      "text/html": [
       "<div>\n",
       "<style scoped>\n",
       "    .dataframe tbody tr th:only-of-type {\n",
       "        vertical-align: middle;\n",
       "    }\n",
       "\n",
       "    .dataframe tbody tr th {\n",
       "        vertical-align: top;\n",
       "    }\n",
       "\n",
       "    .dataframe thead th {\n",
       "        text-align: right;\n",
       "    }\n",
       "</style>\n",
       "<table border=\"1\" class=\"dataframe\">\n",
       "  <thead>\n",
       "    <tr style=\"text-align: right;\">\n",
       "      <th></th>\n",
       "      <th>from_clean</th>\n",
       "      <th>to_clean</th>\n",
       "      <th>count</th>\n",
       "      <th>Total</th>\n",
       "    </tr>\n",
       "  </thead>\n",
       "  <tbody>\n",
       "    <tr>\n",
       "      <th>0</th>\n",
       "      <td>ANAKIN</td>\n",
       "      <td>QUI-GON</td>\n",
       "      <td>42</td>\n",
       "      <td>276.0</td>\n",
       "    </tr>\n",
       "    <tr>\n",
       "      <th>1</th>\n",
       "      <td>QUI-GON</td>\n",
       "      <td>ANAKIN</td>\n",
       "      <td>40</td>\n",
       "      <td>383.0</td>\n",
       "    </tr>\n",
       "    <tr>\n",
       "      <th>2</th>\n",
       "      <td>OBI-WAN</td>\n",
       "      <td>QUI-GON</td>\n",
       "      <td>38</td>\n",
       "      <td>121.0</td>\n",
       "    </tr>\n",
       "    <tr>\n",
       "      <th>3</th>\n",
       "      <td>QUI-GON</td>\n",
       "      <td>OBI-WAN</td>\n",
       "      <td>38</td>\n",
       "      <td>383.0</td>\n",
       "    </tr>\n",
       "    <tr>\n",
       "      <th>4</th>\n",
       "      <td>JAR JAR</td>\n",
       "      <td>QUI-GON</td>\n",
       "      <td>27</td>\n",
       "      <td>105.0</td>\n",
       "    </tr>\n",
       "    <tr>\n",
       "      <th>...</th>\n",
       "      <td>...</td>\n",
       "      <td>...</td>\n",
       "      <td>...</td>\n",
       "      <td>...</td>\n",
       "    </tr>\n",
       "    <tr>\n",
       "      <th>142</th>\n",
       "      <td>NUTE</td>\n",
       "      <td>PADME</td>\n",
       "      <td>1</td>\n",
       "      <td>92.0</td>\n",
       "    </tr>\n",
       "    <tr>\n",
       "      <th>143</th>\n",
       "      <td>QUI-GON</td>\n",
       "      <td>VALORUM</td>\n",
       "      <td>1</td>\n",
       "      <td>383.0</td>\n",
       "    </tr>\n",
       "    <tr>\n",
       "      <th>144</th>\n",
       "      <td>MACE WINDU</td>\n",
       "      <td>Other</td>\n",
       "      <td>1</td>\n",
       "      <td>24.0</td>\n",
       "    </tr>\n",
       "    <tr>\n",
       "      <th>145</th>\n",
       "      <td>PADME</td>\n",
       "      <td>JAR JAR</td>\n",
       "      <td>1</td>\n",
       "      <td>95.0</td>\n",
       "    </tr>\n",
       "    <tr>\n",
       "      <th>146</th>\n",
       "      <td>OBI-WAN</td>\n",
       "      <td>PADME</td>\n",
       "      <td>1</td>\n",
       "      <td>121.0</td>\n",
       "    </tr>\n",
       "  </tbody>\n",
       "</table>\n",
       "<p>147 rows × 4 columns</p>\n",
       "</div>"
      ],
      "text/plain": [
       "     from_clean to_clean  count  Total\n",
       "0        ANAKIN  QUI-GON     42  276.0\n",
       "1       QUI-GON   ANAKIN     40  383.0\n",
       "2       OBI-WAN  QUI-GON     38  121.0\n",
       "3       QUI-GON  OBI-WAN     38  383.0\n",
       "4       JAR JAR  QUI-GON     27  105.0\n",
       "..          ...      ...    ...    ...\n",
       "142        NUTE    PADME      1   92.0\n",
       "143     QUI-GON  VALORUM      1  383.0\n",
       "144  MACE WINDU    Other      1   24.0\n",
       "145       PADME  JAR JAR      1   95.0\n",
       "146     OBI-WAN    PADME      1  121.0\n",
       "\n",
       "[147 rows x 4 columns]"
      ]
     },
     "execution_count": 236,
     "metadata": {},
     "output_type": "execute_result"
    }
   ],
   "source": [
    "chord"
   ]
  },
  {
   "cell_type": "code",
   "execution_count": 244,
   "metadata": {},
   "outputs": [
    {
     "data": {
      "text/plain": [
       "array([[ 0.,  2.,  3.,  2.,  0.,  5.,  0.,  4.,  0.,  5.,  0.,  0.,  2.,\n",
       "         1., 11.,  4.,  1.,  0.,  0.,  0.,  0.,  3.,  0.,  0.],\n",
       "       [ 2.,  0.,  0.,  0.,  3.,  0.,  0.,  1.,  1.,  0.,  2.,  0.,  3.,\n",
       "        23.,  0., 42., 18.,  1.,  0.,  4., 19.,  0.,  2.,  3.],\n",
       "       [ 5.,  0.,  0.,  0.,  0.,  0.,  0.,  0.,  0.,  2.,  0.,  0.,  0.,\n",
       "         1.,  0.,  2.,  0.,  0.,  0.,  0.,  0.,  0.,  0.,  0.],\n",
       "       [ 1.,  0.,  0.,  0.,  0.,  0.,  0.,  4.,  0.,  0.,  2.,  0.,  0.,\n",
       "         2.,  0.,  7.,  0.,  0.,  0.,  0.,  0.,  0.,  0.,  0.],\n",
       "       [ 0.,  5.,  0.,  0.,  0.,  0.,  0.,  0.,  0.,  0.,  0.,  0.,  0.,\n",
       "         0.,  0.,  0., 10.,  0.,  0.,  0.,  0.,  0.,  0.,  0.],\n",
       "       [11.,  0.,  0.,  0.,  0.,  0.,  0.,  0.,  0.,  1.,  4.,  0.,  6.,\n",
       "         4.,  0.,  9.,  0.,  0.,  0.,  0.,  0.,  0.,  0.,  0.],\n",
       "       [ 0.,  0.,  0.,  0.,  0.,  0.,  0.,  0.,  0., 14.,  0.,  0.,  3.,\n",
       "         0.,  0.,  0.,  0.,  0.,  0.,  0.,  0.,  0.,  0.,  0.],\n",
       "       [ 4., 13.,  0.,  3.,  0.,  0.,  0.,  1.,  0.,  0.,  6.,  0.,  4.,\n",
       "         4.,  0., 27.,  0.,  0.,  0.,  2.,  0.,  0.,  0.,  0.],\n",
       "       [ 0.,  1.,  0.,  0.,  0.,  0.,  0.,  0.,  0.,  0.,  0.,  0.,  1.,\n",
       "         0.,  0.,  9.,  0.,  0.,  0.,  0.,  0.,  0.,  0.,  2.],\n",
       "       [ 4.,  0.,  2.,  0.,  0.,  0., 13.,  0.,  0.,  2.,  0.,  3.,  8.,\n",
       "         1.,  0.,  0.,  0.,  0.,  9.,  0.,  0.,  0.,  0.,  0.],\n",
       "       [ 1.,  1.,  0.,  2.,  0.,  3.,  0.,  5.,  1.,  0.,  0.,  0.,  1.,\n",
       "         1.,  0., 38.,  0.,  2.,  0.,  0.,  0.,  0.,  0.,  2.],\n",
       "       [ 0.,  0.,  0.,  0.,  0.,  0.,  0.,  0.,  0.,  4.,  0.,  0.,  1.,\n",
       "         0.,  0.,  0.,  0.,  0.,  0.,  0.,  0.,  0.,  0.,  0.],\n",
       "       [ 1., 11.,  0.,  0.,  0.,  1.,  4.,  4.,  1.,  8.,  0.,  0., 14.,\n",
       "         1.,  0., 11.,  0.,  2.,  0.,  0.,  0.,  0.,  0.,  0.],\n",
       "       [ 1., 21.,  0.,  2.,  0.,  5.,  0.,  1.,  0.,  2.,  1.,  0.,  2.,\n",
       "         0.,  0.,  7.,  0.,  0.,  0.,  0.,  2.,  0.,  0.,  0.],\n",
       "       [16.,  1.,  0.,  0.,  0.,  0.,  0.,  0.,  0.,  0.,  1.,  0.,  1.,\n",
       "         0.,  0.,  0.,  0.,  0.,  0.,  0.,  0.,  1.,  0.,  0.],\n",
       "       [13., 40.,  1.,  7.,  0.,  6.,  0., 17.,  5.,  0., 38.,  0.,  4.,\n",
       "         8.,  0.,  0.,  0.,  2.,  0.,  0., 11.,  1., 21.,  6.],\n",
       "       [ 1., 23.,  0.,  0., 12.,  0.,  0.,  1.,  0.,  0.,  0.,  0.,  0.,\n",
       "         2.,  0.,  2.,  0.,  0.,  0.,  0.,  0.,  0.,  0.,  0.],\n",
       "       [ 0.,  3.,  0.,  0.,  0.,  1.,  0.,  0.,  0.,  0.,  4.,  0.,  1.,\n",
       "         0.,  0.,  3.,  0.,  0.,  0.,  0.,  0.,  0.,  0.,  0.],\n",
       "       [ 0.,  0.,  0.,  0.,  0.,  0.,  0.,  0.,  0., 12.,  0.,  1.,  0.,\n",
       "         0.,  0.,  0.,  0.,  0.,  0.,  0.,  0.,  0.,  0.,  0.],\n",
       "       [ 0.,  3.,  0.,  0.,  0.,  0.,  0.,  2.,  0.,  0.,  0.,  0.,  0.,\n",
       "         0.,  0.,  0.,  0.,  0.,  0.,  0.,  0.,  0.,  0.,  0.],\n",
       "       [ 0., 16.,  0.,  0.,  0.,  0.,  0.,  0.,  0.,  0.,  0.,  0.,  0.,\n",
       "         3.,  0., 11.,  0.,  0.,  0.,  0.,  0.,  0.,  0.,  0.],\n",
       "       [ 3.,  0.,  0.,  0.,  0.,  0.,  0.,  0.,  0.,  0.,  0.,  0.,  3.,\n",
       "         0.,  0.,  0.,  0.,  0.,  0.,  0.,  0.,  0.,  0.,  0.],\n",
       "       [ 0.,  6.,  0.,  0.,  0.,  0.,  0.,  0.,  0.,  0.,  0.,  0.,  0.,\n",
       "         0.,  0., 22.,  0.,  0.,  0.,  0.,  0.,  0.,  0.,  0.],\n",
       "       [ 0.,  5.,  0.,  0.,  0.,  0.,  0.,  0.,  3.,  0.,  4.,  0.,  0.,\n",
       "         0.,  0.,  7.,  0.,  0.,  0.,  0.,  0.,  0.,  0.,  0.]])"
      ]
     },
     "execution_count": 244,
     "metadata": {},
     "output_type": "execute_result"
    }
   ],
   "source": [
    "matrix = chord\n",
    "matrix = matrix.pivot(index=\"from_clean\", columns=\"to_clean\", values=\"count\")\n",
    "matrix = matrix.fillna(0)\n",
    "\n",
    "matrix.to_numpy()\n",
    "\n",
    "#df.pivot(index='foo', columns='bar', values=['baz', 'zoo'])"
   ]
  },
  {
   "cell_type": "code",
   "execution_count": 245,
   "metadata": {},
   "outputs": [
    {
     "data": {
      "text/plain": [
       "Index(['AMIDALA', 'ANAKIN', 'BIBBLE', 'BOSS NASS', 'C-3PO', 'CAPT. PANAKA',\n",
       "       'DARTH SIDIOUS', 'JAR JAR', 'MACE WINDU', 'NUTE', 'OBI-WAN', 'OOM-9',\n",
       "       'Other', 'PADME', 'PALPATINE', 'QUI-GON', 'R2D2', 'RIC OLIE', 'RUNE',\n",
       "       'SEBULBA', 'SHMI', 'VALORUM', 'WATTO', 'YODA'],\n",
       "      dtype='object', name='from_clean')"
      ]
     },
     "execution_count": 245,
     "metadata": {},
     "output_type": "execute_result"
    }
   ],
   "source": [
    "matrix.index\n",
    "#len(matrix.columns)"
   ]
  },
  {
   "cell_type": "code",
   "execution_count": null,
   "metadata": {},
   "outputs": [],
   "source": []
  },
  {
   "attachments": {},
   "cell_type": "markdown",
   "metadata": {},
   "source": [
    "### Other sources"
   ]
  },
  {
   "cell_type": "code",
   "execution_count": 61,
   "metadata": {},
   "outputs": [
    {
     "data": {
      "text/html": [
       "<div>\n",
       "<style scoped>\n",
       "    .dataframe tbody tr th:only-of-type {\n",
       "        vertical-align: middle;\n",
       "    }\n",
       "\n",
       "    .dataframe tbody tr th {\n",
       "        vertical-align: top;\n",
       "    }\n",
       "\n",
       "    .dataframe thead th {\n",
       "        text-align: right;\n",
       "    }\n",
       "</style>\n",
       "<table border=\"1\" class=\"dataframe\">\n",
       "  <thead>\n",
       "    <tr style=\"text-align: right;\">\n",
       "      <th></th>\n",
       "      <th>character</th>\n",
       "      <th>dialogue</th>\n",
       "    </tr>\n",
       "  </thead>\n",
       "  <tbody>\n",
       "    <tr>\n",
       "      <th>0</th>\n",
       "      <td>THREEPIO</td>\n",
       "      <td>Did you hear that?  They\\'ve shut down the mai...</td>\n",
       "    </tr>\n",
       "    <tr>\n",
       "      <th>1</th>\n",
       "      <td>THREEPIO</td>\n",
       "      <td>We\\'re doomed!</td>\n",
       "    </tr>\n",
       "    <tr>\n",
       "      <th>2</th>\n",
       "      <td>THREEPIO</td>\n",
       "      <td>There\\'ll be no escape for the Princess this t...</td>\n",
       "    </tr>\n",
       "    <tr>\n",
       "      <th>3</th>\n",
       "      <td>THREEPIO</td>\n",
       "      <td>What\\'s that?</td>\n",
       "    </tr>\n",
       "    <tr>\n",
       "      <th>4</th>\n",
       "      <td>THREEPIO</td>\n",
       "      <td>I should have known better than to trust the l...</td>\n",
       "    </tr>\n",
       "    <tr>\n",
       "      <th>...</th>\n",
       "      <td>...</td>\n",
       "      <td>...</td>\n",
       "    </tr>\n",
       "    <tr>\n",
       "      <th>1005</th>\n",
       "      <td>LUKE</td>\n",
       "      <td>Oh, no!</td>\n",
       "    </tr>\n",
       "    <tr>\n",
       "      <th>1006</th>\n",
       "      <td>THREEPIO</td>\n",
       "      <td>Oh, my!  Artoo!  Can you hear me?  Say somethi...</td>\n",
       "    </tr>\n",
       "    <tr>\n",
       "      <th>1007</th>\n",
       "      <td>TECHNICIAN</td>\n",
       "      <td>We\\'ll get to work on him right away.</td>\n",
       "    </tr>\n",
       "    <tr>\n",
       "      <th>1008</th>\n",
       "      <td>THREEPIO</td>\n",
       "      <td>You must repair him!  Sir, if any of my circui...</td>\n",
       "    </tr>\n",
       "    <tr>\n",
       "      <th>1009</th>\n",
       "      <td>LUKE</td>\n",
       "      <td>He\\'ll be all right.</td>\n",
       "    </tr>\n",
       "  </tbody>\n",
       "</table>\n",
       "<p>1010 rows × 2 columns</p>\n",
       "</div>"
      ],
      "text/plain": [
       "       character                                           dialogue\n",
       "0       THREEPIO  Did you hear that?  They\\'ve shut down the mai...\n",
       "1       THREEPIO                                     We\\'re doomed!\n",
       "2       THREEPIO  There\\'ll be no escape for the Princess this t...\n",
       "3       THREEPIO                                      What\\'s that?\n",
       "4       THREEPIO  I should have known better than to trust the l...\n",
       "...          ...                                                ...\n",
       "1005        LUKE                                            Oh, no!\n",
       "1006    THREEPIO  Oh, my!  Artoo!  Can you hear me?  Say somethi...\n",
       "1007  TECHNICIAN              We\\'ll get to work on him right away.\n",
       "1008    THREEPIO  You must repair him!  Sir, if any of my circui...\n",
       "1009        LUKE                               He\\'ll be all right.\n",
       "\n",
       "[1010 rows x 2 columns]"
      ]
     },
     "execution_count": 61,
     "metadata": {},
     "output_type": "execute_result"
    }
   ],
   "source": [
    "# load files --> txt files\n",
    "df = pd.read_csv(files[0], sep='\"\"', quotechar=\"'\",engine=\"python\")\n",
    "\n",
    "def extract(text):      \n",
    "  import re\n",
    "  matches = re.findall(r'\"(.+?)\"',text)\n",
    "  return list(matches)\n",
    "\n",
    "df_new = []\n",
    "for i in range(len(df)):\n",
    "  df_new.append(extract(str(df.loc[i].values)))\n",
    "\n",
    "df_new = pd.DataFrame(df_new, columns=[\"index\", \"character\", \"dialogue\"]).drop(columns=[\"index\"])\n",
    "df_new"
   ]
  }
 ],
 "metadata": {
  "kernelspec": {
   "display_name": "py3_makeover",
   "language": "python",
   "name": "python3"
  },
  "language_info": {
   "codemirror_mode": {
    "name": "ipython",
    "version": 3
   },
   "file_extension": ".py",
   "mimetype": "text/x-python",
   "name": "python",
   "nbconvert_exporter": "python",
   "pygments_lexer": "ipython3",
   "version": "3.11.3"
  },
  "orig_nbformat": 4
 },
 "nbformat": 4,
 "nbformat_minor": 2
}

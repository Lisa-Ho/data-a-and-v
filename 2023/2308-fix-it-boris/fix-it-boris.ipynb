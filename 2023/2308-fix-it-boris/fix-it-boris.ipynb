{
 "cells": [
  {
   "cell_type": "code",
   "execution_count": 7,
   "metadata": {},
   "outputs": [],
   "source": [
    "import pandas as pd\n",
    "import matplotlib.pyplot as plt\n",
    "\n",
    "import numpy as np"
   ]
  },
  {
   "cell_type": "code",
   "execution_count": 2,
   "metadata": {},
   "outputs": [],
   "source": [
    "# read data\n",
    "df = pd.read_csv(\"fix-it-boris-data.csv\")"
   ]
  },
  {
   "cell_type": "code",
   "execution_count": 47,
   "metadata": {},
   "outputs": [
    {
     "data": {
      "image/png": "[encoded data removed]",
      "text/plain": [
       "<Figure size 1080x432 with 2 Axes>"
      ]
     },
     "metadata": {
      "needs_background": "light"
     },
     "output_type": "display_data"
    }
   ],
   "source": [
    "#plot\n",
    "layout = [[\"Voucher user\", \"Voucher non-user\"]]\n",
    "\n",
    "fig,axs = plt.subplot_mosaic(layout, figsize=(15,6)) \n",
    "plt.subplots_adjust(wspace=0.1, hspace=0.1, left=0.05, right=0.95, bottom=0.05)\n",
    "\n",
    "for ax in axs:\n",
    "  data = df[df[\"Who\"]==ax]\n",
    "  x_pos = np.arange(len(data))\n",
    "  x_labels = ['Every day','2-5 days\\na week','At least\\nonce a week', 'At least\\nonce a month', 'Less than\\nonce a month', 'Never in\\npast 12 months']\n",
    "\n",
    "  # plot data\n",
    "  axs[ax].scatter(x=x_pos, y=data[\"When applying\"], s=80, color=\"#BCBCBC\", zorder=3,)\n",
    "  axs[ax].scatter(x=x_pos, y=data[\"Time of survey\"], s=80,zorder=3,)\n",
    "\n",
    "  # format axis\n",
    "  axs[ax].set_ylim(ymin=0, ymax=35)\n",
    "  for pos in [\"top\", \"left\", \"right\"]:\n",
    "    axs[ax].spines[pos].set_visible(False)\n",
    "  axs[ax].set_xticks(x_pos, x_labels)\n",
    "\n",
    "  axs[ax].grid(visible=True, axis='y', zorder=1, color = \"#D3D3D3\", label=12)\n",
    "  axs[ax].tick_params(axis='both', length = 0, )\n",
    "\n",
    "\n",
    "plt.savefig(\"chart.svg\", transparent=True)\n"
   ]
  },
  {
   "cell_type": "code",
   "execution_count": 3,
   "metadata": {},
   "outputs": [
    {
     "data": {
      "text/html": [
       "<div>\n",
       "<style scoped>\n",
       "    .dataframe tbody tr th:only-of-type {\n",
       "        vertical-align: middle;\n",
       "    }\n",
       "\n",
       "    .dataframe tbody tr th {\n",
       "        vertical-align: top;\n",
       "    }\n",
       "\n",
       "    .dataframe thead th {\n",
       "        text-align: right;\n",
       "    }\n",
       "</style>\n",
       "<table border=\"1\" class=\"dataframe\">\n",
       "  <thead>\n",
       "    <tr style=\"text-align: right;\">\n",
       "      <th></th>\n",
       "      <th>Frequency</th>\n",
       "      <th>When applying</th>\n",
       "      <th>Time of survey</th>\n",
       "      <th>Who</th>\n",
       "    </tr>\n",
       "  </thead>\n",
       "  <tbody>\n",
       "    <tr>\n",
       "      <th>0</th>\n",
       "      <td>Every day</td>\n",
       "      <td>12</td>\n",
       "      <td>15</td>\n",
       "      <td>Voucher user</td>\n",
       "    </tr>\n",
       "    <tr>\n",
       "      <th>1</th>\n",
       "      <td>2-5 days a week</td>\n",
       "      <td>23</td>\n",
       "      <td>32</td>\n",
       "      <td>Voucher user</td>\n",
       "    </tr>\n",
       "    <tr>\n",
       "      <th>2</th>\n",
       "      <td>At least once a week</td>\n",
       "      <td>22</td>\n",
       "      <td>25</td>\n",
       "      <td>Voucher user</td>\n",
       "    </tr>\n",
       "    <tr>\n",
       "      <th>3</th>\n",
       "      <td>At least once a month</td>\n",
       "      <td>15</td>\n",
       "      <td>17</td>\n",
       "      <td>Voucher user</td>\n",
       "    </tr>\n",
       "    <tr>\n",
       "      <th>4</th>\n",
       "      <td>Less than once a month</td>\n",
       "      <td>15</td>\n",
       "      <td>8</td>\n",
       "      <td>Voucher user</td>\n",
       "    </tr>\n",
       "    <tr>\n",
       "      <th>5</th>\n",
       "      <td>Never in past 12 months</td>\n",
       "      <td>13</td>\n",
       "      <td>2</td>\n",
       "      <td>Voucher user</td>\n",
       "    </tr>\n",
       "    <tr>\n",
       "      <th>6</th>\n",
       "      <td>Every day</td>\n",
       "      <td>15</td>\n",
       "      <td>13</td>\n",
       "      <td>Voucher non-user</td>\n",
       "    </tr>\n",
       "    <tr>\n",
       "      <th>7</th>\n",
       "      <td>2-5 days a week</td>\n",
       "      <td>25</td>\n",
       "      <td>24</td>\n",
       "      <td>Voucher non-user</td>\n",
       "    </tr>\n",
       "    <tr>\n",
       "      <th>8</th>\n",
       "      <td>At least once a week</td>\n",
       "      <td>19</td>\n",
       "      <td>19</td>\n",
       "      <td>Voucher non-user</td>\n",
       "    </tr>\n",
       "    <tr>\n",
       "      <th>9</th>\n",
       "      <td>At least once a month</td>\n",
       "      <td>13</td>\n",
       "      <td>14</td>\n",
       "      <td>Voucher non-user</td>\n",
       "    </tr>\n",
       "    <tr>\n",
       "      <th>10</th>\n",
       "      <td>Less than once a month</td>\n",
       "      <td>13</td>\n",
       "      <td>15</td>\n",
       "      <td>Voucher non-user</td>\n",
       "    </tr>\n",
       "    <tr>\n",
       "      <th>11</th>\n",
       "      <td>Never in past 12 months</td>\n",
       "      <td>15</td>\n",
       "      <td>15</td>\n",
       "      <td>Voucher non-user</td>\n",
       "    </tr>\n",
       "  </tbody>\n",
       "</table>\n",
       "</div>"
      ],
      "text/plain": [
       "                  Frequency  When applying  Time of survey               Who\n",
       "0                 Every day             12              15      Voucher user\n",
       "1           2-5 days a week             23              32      Voucher user\n",
       "2      At least once a week             22              25      Voucher user\n",
       "3     At least once a month             15              17      Voucher user\n",
       "4    Less than once a month             15               8      Voucher user\n",
       "5   Never in past 12 months             13               2      Voucher user\n",
       "6                 Every day             15              13  Voucher non-user\n",
       "7           2-5 days a week             25              24  Voucher non-user\n",
       "8      At least once a week             19              19  Voucher non-user\n",
       "9     At least once a month             13              14  Voucher non-user\n",
       "10   Less than once a month             13              15  Voucher non-user\n",
       "11  Never in past 12 months             15              15  Voucher non-user"
      ]
     },
     "execution_count": 3,
     "metadata": {},
     "output_type": "execute_result"
    }
   ],
   "source": [
    "df"
   ]
  }
 ],
 "metadata": {
  "kernelspec": {
   "display_name": "py3_makeover",
   "language": "python",
   "name": "python3"
  },
  "language_info": {
   "codemirror_mode": {
    "name": "ipython",
    "version": 3
   },
   "file_extension": ".py",
   "mimetype": "text/x-python",
   "name": "python",
   "nbconvert_exporter": "python",
   "pygments_lexer": "ipython3",
   "version": "3.9.2"
  },
  "orig_nbformat": 4
 },
 "nbformat": 4,
 "nbformat_minor": 2
}

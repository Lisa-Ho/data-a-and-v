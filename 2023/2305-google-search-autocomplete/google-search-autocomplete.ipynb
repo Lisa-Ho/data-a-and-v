{
 "cells": [
  {
   "cell_type": "code",
   "execution_count": 38,
   "id": "d55f409b",
   "metadata": {},
   "outputs": [],
   "source": [
    "#analysis and scraping\n",
    "import pandas as pd\n",
    "import requests\n",
    "from bs4 import BeautifulSoup\n",
    "from string import ascii_lowercase\n",
    "import time\n",
    "import ast\n",
    "#import json \n",
    "\n",
    "\n",
    "\n",
    "\n",
    "#\n",
    "\n",
    "## plotting libraries\n",
    "import matplotlib.pyplot as plt\n",
    "import pandas as pd"
   ]
  },
  {
   "cell_type": "markdown",
   "id": "ba3115d9",
   "metadata": {},
   "source": [
    "# Get data"
   ]
  },
  {
   "cell_type": "code",
   "execution_count": 9,
   "id": "a079c727",
   "metadata": {},
   "outputs": [],
   "source": [
    "#Input\n",
    "root_kw = \"why are bicycles \"\n",
    "keywords = [root_kw + c for c in ascii_lowercase]\n",
    "country = \"uk\" "
   ]
  },
  {
   "cell_type": "code",
   "execution_count": 13,
   "id": "f03201ac",
   "metadata": {},
   "outputs": [],
   "source": [
    "#get all suggestions from Google\n",
    "data = []\n",
    "for kw in keywords:\n",
    "    r = requests.get('http://suggestqueries.google.com/complete/search?output=toolbar&hl={}&q={}'.format(country,kw))\n",
    "    soup = BeautifulSoup(r.content, 'html.parser')\n",
    "    sugg = [sugg['data'] for sugg in soup.find_all('suggestion')]\n",
    "    data.append(sugg[0:2])"
   ]
  },
  {
   "cell_type": "code",
   "execution_count": 14,
   "id": "7ab0b65f",
   "metadata": {},
   "outputs": [
    {
     "data": {
      "text/plain": [
       "[['why are bicycles allowed on the road', 'why are bicycles always exhausted'],\n",
       " ['why are bicycles better than cars', 'why are bicycles bad'],\n",
       " ['why are bicycles called eco-friendly vehicles', 'why are bikes cool'],\n",
       " ['why are bicycles dangerous', 'why are bikes dangerous'],\n",
       " ['why are bicycles expensive', 'why are electric bicycles used'],\n",
       " ['why are bikes fun', 'what are folding bicycle for'],\n",
       " ['why are bicycles good', 'why are bicycle good'],\n",
       " ['why are bicycle handlebars', 'why are bike helmet'],\n",
       " ['why are bicycles important', 'why are bicycles important in the giver'],\n",
       " ['why bicycle jersey'],\n",
       " ['what are bicycle kicks', 'what are bicycle kick'],\n",
       " ['why are bicycle lights', 'why are bike lanes important'],\n",
       " ['why are bicycles more expensive than motorcycles',\n",
       "  'what are bicycle made of'],\n",
       " ['why are bicycles not suitable for all types of orders',\n",
       "  'why bikes are not allowed on expressways'],\n",
       " ['why are specialized bikes on sale', 'why bike oil'],\n",
       " ['why are bicycles prohibited on roads', 'what are bicycle playing cards'],\n",
       " ['why are quad bikes not road legal', 'why are quad bikes so dangerous'],\n",
       " ['why are bicycles rear wheel drive', 'why are bikes racing'],\n",
       " ['why are bicycles so efficient', 'why are bicycle seats so uncomfortable'],\n",
       " ['why are bicycles the most sustainable form of tourist transport',\n",
       "  'what are bicycle tire sizes'],\n",
       " ['what are bicycles used for', 'why are bikes used'],\n",
       " ['why are bicycle very old and delightful',\n",
       "  'why are bicycles considered vehicles'],\n",
       " ['why bicycles were invented', 'what are bicycle workout'],\n",
       " [],\n",
       " ['why are yeti bikes so expensive'],\n",
       " []]"
      ]
     },
     "execution_count": 14,
     "metadata": {},
     "output_type": "execute_result"
    }
   ],
   "source": [
    "data"
   ]
  },
  {
   "cell_type": "code",
   "execution_count": 15,
   "id": "82fc37ed",
   "metadata": {},
   "outputs": [],
   "source": [
    "#Input\n",
    "root_kw = \"why are cars \"\n",
    "keywords = [root_kw + c for c in ascii_lowercase]\n",
    "country = \"uk\" "
   ]
  },
  {
   "cell_type": "code",
   "execution_count": 17,
   "id": "fa20c2b7",
   "metadata": {},
   "outputs": [],
   "source": [
    "#get all suggestions from Google\n",
    "data = []\n",
    "for kw in keywords:\n",
    "    r = requests.get('http://suggestqueries.google.com/complete/search?output=toolbar&hl={}&q={}'.format(country,kw))\n",
    "    soup = BeautifulSoup(r.content, 'html.parser')\n",
    "    sugg = [sugg['data'] for sugg in soup.find_all('suggestion')]\n",
    "    data.append(sugg[0:2])\n",
    "    time.sleep(0.2)"
   ]
  },
  {
   "cell_type": "code",
   "execution_count": 18,
   "id": "3f19306a",
   "metadata": {},
   "outputs": [
    {
     "data": {
      "text/plain": [
       "[['why are cars abandoned in dubai',\n",
       "  'why are cars aeroplanes and rockets streamlined'],\n",
       " ['why are cars bad for the environment', 'why are cars better than trucks'],\n",
       " ['why are cars called cars', 'why are cars called whips'],\n",
       " ['why are cars designed to crumple', 'why are cars dangerous'],\n",
       " ['why are cars expensive in the netherlands', 'why are cars expensive'],\n",
       " ['why are cars female', 'why are cars front wheel drive'],\n",
       " ['why are cars getting bigger', 'why are cars going electric'],\n",
       " ['why are cars harmful to the environment', 'why are cars helpful'],\n",
       " ['why are cars important', 'why are cars in cuba so old'],\n",
       " ['why are jdm cars popular', 'why are japanese cars cheap'],\n",
       " ['why are cars keyless', 'what are kit cars'],\n",
       " ['why are cars left hand drive', 'why are luxury cars cheap'],\n",
       " ['why are cars more expensive now',\n",
       "  'why are cars made to go over the speed limit'],\n",
       " ['why are cars named after females', 'why are cars not made of aluminum'],\n",
       " ['why are cars on facebook marketplace so cheap',\n",
       "  'why are cars on trovit so cheap'],\n",
       " ['why are cars painted', 'why are cars push to start'],\n",
       " ['why are quebec cars cheaper', 'what are cars questions'],\n",
       " ['why are cars referred to as she', 'why are cars repossessed'],\n",
       " ['why are cars sold for export only', 'why are cars so expensive'],\n",
       " ['why are cars the best invention',\n",
       "  'why are cars totaled when airbags deploy'],\n",
       " ['why are cars useful', 'why are cars ugly now'],\n",
       " ['what cars are v12', 'what are vintage cars'],\n",
       " ['why are cars written off', 'why are cars with rebuilt titles cheap'],\n",
       " ['suv cars', 'what cars are x body'],\n",
       " ['why are cars expensive', 'why are cars good'],\n",
       " ['what are zip cars', 'what cars are zero emission']]"
      ]
     },
     "execution_count": 18,
     "metadata": {},
     "output_type": "execute_result"
    }
   ],
   "source": [
    "data"
   ]
  },
  {
   "cell_type": "code",
   "execution_count": 132,
   "id": "8673692e",
   "metadata": {},
   "outputs": [],
   "source": [
    "#Input\n",
    "cyc_root = \"why do cyclists \"\n",
    "cyc_keywords = [cyc_root + c for c in ascii_lowercase]\n",
    "\n",
    "driver_root = \"why do drivers \"\n",
    "driver_keywords = [driver_root + c for c in ascii_lowercase]\n",
    "\n",
    "all_keywords = {\"cyclists\": cyc_keywords, \"drivers\" :driver_keywords}\n",
    "country = \"uk\" "
   ]
  },
  {
   "cell_type": "code",
   "execution_count": 133,
   "id": "d037069b",
   "metadata": {},
   "outputs": [],
   "source": [
    "#get all suggestions from Google\n",
    "data = { \"cyclists\" : [], \"drivers\":[]}\n",
    "\n",
    "for roaduser in data.keys():\n",
    "    keywords = all_keywords[roaduser]\n",
    "    for kw in keywords:\n",
    "        r = requests.get('http://suggestqueries.google.com/complete/search?output=toolbar&hl={}&q={}'.format(country,kw))\n",
    "        soup = BeautifulSoup(r.content, 'html.parser')\n",
    "        sugg = [sugg['data'] for sugg in soup.find_all('suggestion')]\n",
    "        data[roaduser].append(sugg[0:12])\n",
    "        time.sleep(0.2)"
   ]
  },
  {
   "cell_type": "code",
   "execution_count": 137,
   "id": "9d1ff5bf",
   "metadata": {},
   "outputs": [],
   "source": [
    "df = pd.DataFrame.from_dict(data)\n",
    "df[\"letter\"] = [c.upper() for c in ascii_lowercase]\n",
    "df = df.rename(columns={\"cyclists\":\"cyclists_raw\", \"drivers\":\"drivers_raw\"})"
   ]
  },
  {
   "cell_type": "code",
   "execution_count": 138,
   "id": "f4e48718",
   "metadata": {},
   "outputs": [],
   "source": [
    "#get one entry\n",
    "df[\"cyclists\"]=df[\"cyclists_raw\"].str[0]\n",
    "df[\"cyclists\"].iloc[5] = \"\"\n",
    "df[\"cyclists\"].iloc[10] = df[\"cyclists_raw\"].iloc[10][6]\n",
    "df[\"cyclists\"].iloc[12] = \"\"\n",
    "df[\"cyclists\"].iloc[14] = \"why do cyclists only have one headlight on\"\n",
    "df[\"cyclists\"].iloc[16] = df[\"cyclists_raw\"].iloc[16][3]\n",
    "df[\"cyclists\"].iloc[23] = \"\"\n",
    "df[\"cyclists\"].iloc[24] =  df[\"cyclists_raw\"].iloc[24][5]\n",
    "\n",
    "df[\"drivers\"]=df[\"drivers_raw\"].str[0]\n",
    "#df[\"drivers\"].iloc[0] = \"\"\n",
    "#df[\"drivers\"].iloc[9] = \"\""
   ]
  },
  {
   "cell_type": "code",
   "execution_count": 139,
   "id": "2267fc30",
   "metadata": {},
   "outputs": [
    {
     "data": {
      "text/plain": [
       "0                              what is drivers abstract\n",
       "1                            why do drivers brake check\n",
       "2                            why do drivers cancel uber\n",
       "3     why do drivers drive their car slowly during r...\n",
       "4                    why do drivers exceed speed limits\n",
       "5                 why do drivers flash their headlights\n",
       "6                           why do drivers get so angry\n",
       "7     why do drivers have responsibility for protect...\n",
       "8                    why do drivers in nyc honk so much\n",
       "9                                  what are drivers job\n",
       "10                       what is drivers knowledge test\n",
       "11                       why do drivers licenses expire\n",
       "12                              what is drivers meaning\n",
       "13                   why do drivers need auto insurance\n",
       "14    why do drivers of large trucks create extra sp...\n",
       "15    why do incompatible drivers prevent using memo...\n",
       "16                        why are drivers quitting uber\n",
       "17                        why do drivers run red lights\n",
       "18    why do drivers sometimes continue to make poor...\n",
       "19                              why do drivers tailgate\n",
       "20    why do drivers under the influence of alcohol ...\n",
       "21                     why are vancouver drivers so bad\n",
       "22                           why do drivers wear gloves\n",
       "23                    why are xxio drivers so expensive\n",
       "24                                what is young drivers\n",
       "25                                  what is drivers zed\n",
       "Name: drivers, dtype: object"
      ]
     },
     "execution_count": 139,
     "metadata": {},
     "output_type": "execute_result"
    }
   ],
   "source": [
    "df[\"drivers\"]"
   ]
  },
  {
   "cell_type": "code",
   "execution_count": 131,
   "id": "6f6455e4",
   "metadata": {},
   "outputs": [
    {
     "data": {
      "text/plain": [
       "['what car is baby driver',\n",
       " 'what car does baby driver drive',\n",
       " 'what car is beth driving in yellowstone',\n",
       " 'why are self driving cars bad',\n",
       " 'why are self-driving cars bad for the environment',\n",
       " 'does car driving burn calories']"
      ]
     },
     "execution_count": 131,
     "metadata": {},
     "output_type": "execute_result"
    }
   ],
   "source": [
    " df[\"drivers_raw\"].iloc[1]"
   ]
  }
 ],
 "metadata": {
  "kernelspec": {
   "display_name": "Python 3 (ipykernel)",
   "language": "python",
   "name": "python3"
  },
  "language_info": {
   "codemirror_mode": {
    "name": "ipython",
    "version": 3
   },
   "file_extension": ".py",
   "mimetype": "text/x-python",
   "name": "python",
   "nbconvert_exporter": "python",
   "pygments_lexer": "ipython3",
   "version": "3.9.2"
  }
 },
 "nbformat": 4,
 "nbformat_minor": 5
}

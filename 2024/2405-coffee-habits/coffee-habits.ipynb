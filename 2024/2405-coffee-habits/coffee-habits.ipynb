{
 "cells": [
  {
   "cell_type": "code",
   "execution_count": 1,
   "metadata": {},
   "outputs": [],
   "source": [
    "import pandas as pd\n",
    "import matplotlib.pyplot as plt\n",
    "import numpy as np\n",
    "import seaborn as sns"
   ]
  },
  {
   "cell_type": "markdown",
   "metadata": {},
   "source": [
    "## Load data"
   ]
  },
  {
   "cell_type": "code",
   "execution_count": 2,
   "metadata": {},
   "outputs": [],
   "source": [
    "#Load ------------\n",
    "df_all = pd.read_csv(\"coffee_survey.csv\")\n",
    "\n",
    "# Cleaning ---------------\n",
    "\n",
    "# Replace \"NA\" with NaN\n",
    "df_all.replace(\"NA\", pd.NA, inplace=True)\n",
    "\n",
    "# Split the comma-separated values into separate columns\n",
    "df_all = df_all.join(df_all['brew'].str.get_dummies(', ').add_prefix(\"brew_\"))\n",
    "df_all = df_all.join(df_all['additions'].str.get_dummies(', ').add_prefix(\"add_\"))\n",
    "df_all = df_all.join(df_all['where_drink'].str.get_dummies(', ').add_prefix(\"where_\"))\n",
    "df_all = df_all.join(df_all['purchase'].str.get_dummies(', ').add_prefix(\"purch_\"))\n",
    "\n",
    "why_rename = {'It tastes good': 'Taste',\n",
    " 'It makes me go to the bathroom' : 'To poop',\n",
    " 'I need the caffeine': 'Caffeine',\n",
    " 'I need the ritual': 'Ritual' }\n",
    "df_all = df_all.join(df_all['why_drink'].str.get_dummies(', ').rename(columns=why_rename).add_prefix(\"why_\"))\n",
    "\n",
    "# number of additions\n",
    "df_all[\"add_any milk\"] = df_all[[\"add_Milk\", \"add_dairy alternative\", \"add_or coffee creamer\"]].mean(axis=1)\n",
    "df_all[\"add_total\"] = df_all[['add_Cinnamon', 'add_Flavor syrup', 'add_Half & half',\n",
    "       'add_any milk', 'add_Other', 'add_Sugar or sweetener']].sum(axis=1)\n",
    "\n",
    "# combine age groups with low sample numbers\n",
    "age_groups = {'18-24 years old': '18-24', \n",
    "              '25-34 years old': '25-34', \n",
    "              '35-44 years old': '35-44',\n",
    "                '55-64 years old': '>45',\n",
    "                '<18 years old': pd.NA,\n",
    "                 '>65 years old': '>45',\n",
    "                 '45-54 years old': '>45'\n",
    "                 }\n",
    "df_all[\"age_dv\"] = df_all[\"age\"].map(age_groups)\n",
    "\n",
    "# combine age groups with low sample numbers\n",
    "age_groups = {'<18 years old': '1: Gen Z',\n",
    "              '18-24 years old': '1: Gen Z', \n",
    "              '25-34 years old': '2: Y/Millenials', \n",
    "              '35-44 years old': '2: Y/Millenials',\n",
    "              '45-54 years old': '3: X/Boomers',\n",
    "              '55-64 years old': '3: X/Boomers',\n",
    "              '>65 years old': '3: X/Boomers'\n",
    "                 }\n",
    "df_all[\"age_dv\"] = df_all[\"age\"].map(age_groups)\n",
    "\n",
    "# spending bands \n",
    "most_paid_bands = {'Less than $2':  \"<$6\",\n",
    "                    '$4-$6': \"<$6\", \n",
    "                   '$2-$4':\"<$6\",\n",
    "                   '$10-$15': \">$10\", \n",
    "                   '$6-$8': \"$6-$8\",\n",
    "                    '$8-$10': '$8-$10',\n",
    "                  'More than $20': \">$10\", \n",
    "                  '$15-$20': \">$10\" }\n",
    "\n",
    "df_all[\"most_paid_dv\"] = df_all[\"most_paid\"].map(most_paid_bands)\n",
    "df_all[\"most_willing_dv\"] = df_all[\"most_willing\"].map(most_paid_bands)\n",
    "\n",
    "# total spending per month\n",
    "total_spend_bands  = {'>$100': '>$60', '$40-$60': '$40-$60', '$20-$40':'$20-$40' , '$60-$80': '>$60', '<$20': '<$20', '$80-$100': '>$60'}\n",
    "df_all[\"total_spend_dv\"] = df_all[\"total_spend\"].map(total_spend_bands)\n",
    "\n",
    "# no of cups per month\n",
    "cups_n = {'Less than 1':  0.5,\n",
    "          '1': 1,\n",
    "          '2': 2, \n",
    "          '3':3,\n",
    "          '4':4,\n",
    "          'More than 4': 4.5}\n",
    "cups_dv = {'Less than 1':  '<1',\n",
    "          '1': '1',\n",
    "          '2': '2', \n",
    "          '3':'3',\n",
    "          '4':'4',\n",
    "          'More than 4': '>4'}\n",
    "\n",
    "df_all[\"cups_n\"] = df_all[\"cups\"].map(cups_n)\n",
    "df_all[\"cups_dv\"] = df_all[\"cups\"].map(cups_dv)"
   ]
  },
  {
   "cell_type": "code",
   "execution_count": 3,
   "metadata": {},
   "outputs": [
    {
     "data": {
      "text/plain": [
       "3155"
      ]
     },
     "execution_count": 3,
     "metadata": {},
     "output_type": "execute_result"
    }
   ],
   "source": [
    "#drop rows where data is missing\n",
    "len(df_all.dropna(how='any', subset=[\n",
    "    'age', 'cups', \n",
    "    'where_drink', 'brew', \n",
    "    'favorite', 'additions',  \n",
    "    'know_source',\n",
    "    #'dairy', 'sweetener', 'style',\n",
    "    #'strength', 'roast_level', 'caffeine', 'expertise',\n",
    "    'total_spend','why_drink', 'most_paid',\n",
    "    'most_willing', 'value_cafe', \n",
    "    #'spent_equipment', 'value_equipment'\n",
    "    ]))"
   ]
  },
  {
   "cell_type": "code",
   "execution_count": 4,
   "metadata": {},
   "outputs": [],
   "source": [
    "df = df_all.dropna(how='any', subset=[\n",
    "    'age', 'cups', \n",
    "    'where_drink', 'brew', \n",
    "    'favorite', 'additions',  \n",
    "    'know_source',\n",
    "    #'dairy', 'sweetener', 'style',\n",
    "    #'strength', 'roast_level', 'caffeine', 'expertise',\n",
    "    'total_spend','why_drink', 'most_paid',\n",
    "    'most_willing', 'value_cafe', \n",
    "    #'spent_equipment', 'value_equipment'\n",
    "    ]).drop(columns=[ 'coffee_a_bitterness', 'coffee_a_acidity',\n",
    "       'coffee_a_personal_preference', 'coffee_a_notes', 'coffee_b_bitterness',\n",
    "       'coffee_b_acidity', 'coffee_b_personal_preference', 'coffee_b_notes',\n",
    "       'coffee_c_bitterness', 'coffee_c_acidity',\n",
    "       'coffee_c_personal_preference', 'coffee_c_notes', 'coffee_d_bitterness',\n",
    "       'coffee_d_acidity', 'coffee_d_personal_preference', 'coffee_d_notes',\n",
    "       'prefer_abc', 'prefer_ad', 'prefer_overall'])"
   ]
  },
  {
   "cell_type": "code",
   "execution_count": 7,
   "metadata": {},
   "outputs": [],
   "source": [
    "df = df.reset_index(drop=True)\n",
    "df.to_csv(\"coffee_survey_data_clean.csv\", index=False)"
   ]
  },
  {
   "cell_type": "markdown",
   "metadata": {},
   "source": [
    "## Explore"
   ]
  },
  {
   "cell_type": "code",
   "execution_count": 9,
   "metadata": {},
   "outputs": [
    {
     "data": {
      "text/plain": [
       "2: Y/Millenials    2382\n",
       "3: X/Boomers        427\n",
       "1: Gen Z            346\n",
       "Name: age_dv, dtype: int64"
      ]
     },
     "execution_count": 9,
     "metadata": {},
     "output_type": "execute_result"
    }
   ],
   "source": [
    "df[\"age_dv\"].value_counts()"
   ]
  },
  {
   "cell_type": "code",
   "execution_count": 100,
   "metadata": {},
   "outputs": [
    {
     "data": {
      "text/html": [
       "<div>\n",
       "<style scoped>\n",
       "    .dataframe tbody tr th:only-of-type {\n",
       "        vertical-align: middle;\n",
       "    }\n",
       "\n",
       "    .dataframe tbody tr th {\n",
       "        vertical-align: top;\n",
       "    }\n",
       "\n",
       "    .dataframe thead th {\n",
       "        text-align: right;\n",
       "    }\n",
       "</style>\n",
       "<table border=\"1\" class=\"dataframe\">\n",
       "  <thead>\n",
       "    <tr style=\"text-align: right;\">\n",
       "      <th>where_At a cafe</th>\n",
       "      <th>0</th>\n",
       "      <th>1</th>\n",
       "    </tr>\n",
       "    <tr>\n",
       "      <th>age_dv</th>\n",
       "      <th></th>\n",
       "      <th></th>\n",
       "    </tr>\n",
       "  </thead>\n",
       "  <tbody>\n",
       "    <tr>\n",
       "      <th>1: Gen Z</th>\n",
       "      <td>0.595376</td>\n",
       "      <td>0.404624</td>\n",
       "    </tr>\n",
       "    <tr>\n",
       "      <th>2: Y/Millenials</th>\n",
       "      <td>0.684719</td>\n",
       "      <td>0.315281</td>\n",
       "    </tr>\n",
       "    <tr>\n",
       "      <th>3: X/Boomers</th>\n",
       "      <td>0.866511</td>\n",
       "      <td>0.133489</td>\n",
       "    </tr>\n",
       "  </tbody>\n",
       "</table>\n",
       "</div>"
      ],
      "text/plain": [
       "where_At a cafe         0         1\n",
       "age_dv                             \n",
       "1: Gen Z         0.595376  0.404624\n",
       "2: Y/Millenials  0.684719  0.315281\n",
       "3: X/Boomers     0.866511  0.133489"
      ]
     },
     "execution_count": 100,
     "metadata": {},
     "output_type": "execute_result"
    }
   ],
   "source": [
    "df.groupby(\"age_dv\")[\"where_At a cafe\"].value_counts(normalize=True).unstack() "
   ]
  },
  {
   "cell_type": "code",
   "execution_count": 81,
   "metadata": {},
   "outputs": [
    {
     "data": {
      "text/plain": [
       "<matplotlib.legend.Legend at 0x23ab003e8e0>"
      ]
     },
     "execution_count": 81,
     "metadata": {},
     "output_type": "execute_result"
    },
    {
     "data": {
      "image/png": "[encoded data removed]",
      "text/plain": [
       "<Figure size 432x288 with 1 Axes>"
      ]
     },
     "metadata": {
      "needs_background": "light"
     },
     "output_type": "display_data"
    }
   ],
   "source": [
    "test = df.groupby(\"age_dv\")[\"cups_dv\"].value_counts(normalize=True).unstack() *100\n",
    "\n",
    "#create stacked bar chart\n",
    "test.plot(kind='barh', stacked=True)\n",
    "plt.legend(loc='upper left',  bbox_to_anchor=(1, 1))"
   ]
  },
  {
   "cell_type": "code",
   "execution_count": 99,
   "metadata": {},
   "outputs": [
    {
     "data": {
      "text/plain": [
       "<matplotlib.legend.Legend at 0x23aadb56bb0>"
      ]
     },
     "execution_count": 99,
     "metadata": {},
     "output_type": "execute_result"
    },
    {
     "data": {
      "image/png": "[encoded data removed]",
      "text/plain": [
       "<Figure size 432x288 with 1 Axes>"
      ]
     },
     "metadata": {
      "needs_background": "light"
     },
     "output_type": "display_data"
    }
   ],
   "source": [
    "test = df.groupby(\"age_dv\")[\"total_spend_dv\"].value_counts(normalize=True).unstack()\n",
    "\n",
    "#create stacked bar chart\n",
    "test.plot(kind='barh', stacked=True)\n",
    "plt.legend(loc='upper left',  bbox_to_anchor=(1, 1))"
   ]
  },
  {
   "cell_type": "code",
   "execution_count": 82,
   "metadata": {},
   "outputs": [
    {
     "data": {
      "text/plain": [
       "<matplotlib.legend.Legend at 0x23ab28a9220>"
      ]
     },
     "execution_count": 82,
     "metadata": {},
     "output_type": "execute_result"
    },
    {
     "data": {
      "image/png": "[encoded data removed]",
      "text/plain": [
       "<Figure size 432x288 with 1 Axes>"
      ]
     },
     "metadata": {
      "needs_background": "light"
     },
     "output_type": "display_data"
    }
   ],
   "source": [
    "test = df.groupby(\"age_dv\")[\"most_paid_dv\"].value_counts(normalize=True).unstack() *100\n",
    "\n",
    "#create stacked bar chart\n",
    "test.plot(kind='barh', stacked=True)\n",
    "plt.legend(loc='upper left',  bbox_to_anchor=(1, 1))"
   ]
  },
  {
   "cell_type": "code",
   "execution_count": 83,
   "metadata": {},
   "outputs": [
    {
     "data": {
      "text/plain": [
       "<matplotlib.legend.Legend at 0x23ab01886d0>"
      ]
     },
     "execution_count": 83,
     "metadata": {},
     "output_type": "execute_result"
    },
    {
     "data": {
      "image/png": "[encoded data removed]",
      "text/plain": [
       "<Figure size 432x288 with 1 Axes>"
      ]
     },
     "metadata": {
      "needs_background": "light"
     },
     "output_type": "display_data"
    }
   ],
   "source": [
    "test = df.groupby(\"age_dv\")[\"most_willing_dv\"].value_counts(normalize=True).unstack() *100\n",
    "\n",
    "#create stacked bar chart\n",
    "test.plot(kind='barh', stacked=True)\n",
    "plt.legend(loc='upper left',  bbox_to_anchor=(1, 1))"
   ]
  },
  {
   "cell_type": "code",
   "execution_count": 84,
   "metadata": {},
   "outputs": [
    {
     "data": {
      "text/plain": [
       "<matplotlib.legend.Legend at 0x23ab28a90d0>"
      ]
     },
     "execution_count": 84,
     "metadata": {},
     "output_type": "execute_result"
    },
    {
     "data": {
      "image/png": "[encoded data removed]",
      "text/plain": [
       "<Figure size 432x288 with 1 Axes>"
      ]
     },
     "metadata": {
      "needs_background": "light"
     },
     "output_type": "display_data"
    }
   ],
   "source": [
    "test = df.groupby(\"age_dv\")[\"value_cafe\"].value_counts(normalize=True).to_frame().rename(columns={\"value_cafe\": \"proportion\"}).reset_index()\n",
    "sns.barplot(x='age_dv', y='proportion', hue='value_cafe', data=test) \n",
    "plt.legend(loc='upper left',  bbox_to_anchor=(1, 1))"
   ]
  },
  {
   "cell_type": "code",
   "execution_count": 85,
   "metadata": {},
   "outputs": [
    {
     "data": {
      "text/plain": [
       "<matplotlib.legend.Legend at 0x23ab28a91c0>"
      ]
     },
     "execution_count": 85,
     "metadata": {},
     "output_type": "execute_result"
    },
    {
     "data": {
      "image/png": "[encoded data removed]",
      "text/plain": [
       "<Figure size 432x288 with 1 Axes>"
      ]
     },
     "metadata": {
      "needs_background": "light"
     },
     "output_type": "display_data"
    }
   ],
   "source": [
    "test = df.groupby(\"age_dv\")[\"cups_dv\"].value_counts(normalize=True).to_frame().rename(columns={\"cups_dv\": \"proportion\"}).reset_index()\n",
    "sns.barplot(x='age_dv', y='proportion', hue='cups_dv', data=test) \n",
    "plt.legend(loc='upper left',  bbox_to_anchor=(1, 1))"
   ]
  },
  {
   "cell_type": "code",
   "execution_count": 87,
   "metadata": {},
   "outputs": [
    {
     "data": {
      "text/html": [
       "<div>\n",
       "<style scoped>\n",
       "    .dataframe tbody tr th:only-of-type {\n",
       "        vertical-align: middle;\n",
       "    }\n",
       "\n",
       "    .dataframe tbody tr th {\n",
       "        vertical-align: top;\n",
       "    }\n",
       "\n",
       "    .dataframe thead th {\n",
       "        text-align: right;\n",
       "    }\n",
       "</style>\n",
       "<table border=\"1\" class=\"dataframe\">\n",
       "  <thead>\n",
       "    <tr style=\"text-align: right;\">\n",
       "      <th>add_Flavor syrup</th>\n",
       "      <th>0</th>\n",
       "      <th>1</th>\n",
       "    </tr>\n",
       "    <tr>\n",
       "      <th>age_dv</th>\n",
       "      <th></th>\n",
       "      <th></th>\n",
       "    </tr>\n",
       "  </thead>\n",
       "  <tbody>\n",
       "    <tr>\n",
       "      <th>1: Gen Z</th>\n",
       "      <td>0.907514</td>\n",
       "      <td>0.092486</td>\n",
       "    </tr>\n",
       "    <tr>\n",
       "      <th>2: Y/Millenials</th>\n",
       "      <td>0.949622</td>\n",
       "      <td>0.050378</td>\n",
       "    </tr>\n",
       "    <tr>\n",
       "      <th>3: X/Boomers</th>\n",
       "      <td>0.969555</td>\n",
       "      <td>0.030445</td>\n",
       "    </tr>\n",
       "  </tbody>\n",
       "</table>\n",
       "</div>"
      ],
      "text/plain": [
       "add_Flavor syrup         0         1\n",
       "age_dv                              \n",
       "1: Gen Z          0.907514  0.092486\n",
       "2: Y/Millenials   0.949622  0.050378\n",
       "3: X/Boomers      0.969555  0.030445"
      ]
     },
     "execution_count": 87,
     "metadata": {},
     "output_type": "execute_result"
    }
   ],
   "source": [
    "df.groupby(\"age_dv\")[\"add_Flavor syrup\"].value_counts(normalize=True).unstack()"
   ]
  },
  {
   "cell_type": "code",
   "execution_count": 88,
   "metadata": {},
   "outputs": [
    {
     "data": {
      "text/html": [
       "<div>\n",
       "<style scoped>\n",
       "    .dataframe tbody tr th:only-of-type {\n",
       "        vertical-align: middle;\n",
       "    }\n",
       "\n",
       "    .dataframe tbody tr th {\n",
       "        vertical-align: top;\n",
       "    }\n",
       "\n",
       "    .dataframe thead th {\n",
       "        text-align: right;\n",
       "    }\n",
       "</style>\n",
       "<table border=\"1\" class=\"dataframe\">\n",
       "  <thead>\n",
       "    <tr style=\"text-align: right;\">\n",
       "      <th>add_dairy alternative</th>\n",
       "      <th>0</th>\n",
       "      <th>1</th>\n",
       "    </tr>\n",
       "    <tr>\n",
       "      <th>age_dv</th>\n",
       "      <th></th>\n",
       "      <th></th>\n",
       "    </tr>\n",
       "  </thead>\n",
       "  <tbody>\n",
       "    <tr>\n",
       "      <th>1: Gen Z</th>\n",
       "      <td>0.578035</td>\n",
       "      <td>0.421965</td>\n",
       "    </tr>\n",
       "    <tr>\n",
       "      <th>2: Y/Millenials</th>\n",
       "      <td>0.597397</td>\n",
       "      <td>0.402603</td>\n",
       "    </tr>\n",
       "    <tr>\n",
       "      <th>3: X/Boomers</th>\n",
       "      <td>0.505855</td>\n",
       "      <td>0.494145</td>\n",
       "    </tr>\n",
       "  </tbody>\n",
       "</table>\n",
       "</div>"
      ],
      "text/plain": [
       "add_dairy alternative         0         1\n",
       "age_dv                                   \n",
       "1: Gen Z               0.578035  0.421965\n",
       "2: Y/Millenials        0.597397  0.402603\n",
       "3: X/Boomers           0.505855  0.494145"
      ]
     },
     "execution_count": 88,
     "metadata": {},
     "output_type": "execute_result"
    }
   ],
   "source": [
    "df.groupby(\"age_dv\")[\"add_dairy alternative\"].value_counts(normalize=True).unstack() "
   ]
  },
  {
   "cell_type": "code",
   "execution_count": 89,
   "metadata": {},
   "outputs": [
    {
     "data": {
      "text/html": [
       "<div>\n",
       "<style scoped>\n",
       "    .dataframe tbody tr th:only-of-type {\n",
       "        vertical-align: middle;\n",
       "    }\n",
       "\n",
       "    .dataframe tbody tr th {\n",
       "        vertical-align: top;\n",
       "    }\n",
       "\n",
       "    .dataframe thead th {\n",
       "        text-align: right;\n",
       "    }\n",
       "</style>\n",
       "<table border=\"1\" class=\"dataframe\">\n",
       "  <thead>\n",
       "    <tr style=\"text-align: right;\">\n",
       "      <th>know_source</th>\n",
       "      <th>No</th>\n",
       "      <th>Yes</th>\n",
       "    </tr>\n",
       "    <tr>\n",
       "      <th>age_dv</th>\n",
       "      <th></th>\n",
       "      <th></th>\n",
       "    </tr>\n",
       "  </thead>\n",
       "  <tbody>\n",
       "    <tr>\n",
       "      <th>1: Gen Z</th>\n",
       "      <td>0.286127</td>\n",
       "      <td>0.713873</td>\n",
       "    </tr>\n",
       "    <tr>\n",
       "      <th>2: Y/Millenials</th>\n",
       "      <td>0.193115</td>\n",
       "      <td>0.806885</td>\n",
       "    </tr>\n",
       "    <tr>\n",
       "      <th>3: X/Boomers</th>\n",
       "      <td>0.241218</td>\n",
       "      <td>0.758782</td>\n",
       "    </tr>\n",
       "  </tbody>\n",
       "</table>\n",
       "</div>"
      ],
      "text/plain": [
       "know_source            No       Yes\n",
       "age_dv                             \n",
       "1: Gen Z         0.286127  0.713873\n",
       "2: Y/Millenials  0.193115  0.806885\n",
       "3: X/Boomers     0.241218  0.758782"
      ]
     },
     "execution_count": 89,
     "metadata": {},
     "output_type": "execute_result"
    }
   ],
   "source": [
    "df.groupby(\"age_dv\")[\"know_source\"].value_counts(normalize=True).unstack() "
   ]
  },
  {
   "cell_type": "code",
   "execution_count": 90,
   "metadata": {},
   "outputs": [
    {
     "data": {
      "text/html": [
       "<div>\n",
       "<style scoped>\n",
       "    .dataframe tbody tr th:only-of-type {\n",
       "        vertical-align: middle;\n",
       "    }\n",
       "\n",
       "    .dataframe tbody tr th {\n",
       "        vertical-align: top;\n",
       "    }\n",
       "\n",
       "    .dataframe thead th {\n",
       "        text-align: right;\n",
       "    }\n",
       "</style>\n",
       "<table border=\"1\" class=\"dataframe\">\n",
       "  <thead>\n",
       "    <tr style=\"text-align: right;\">\n",
       "      <th>brew_Pod/capsule machine (e.g. Keurig/Nespresso)</th>\n",
       "      <th>0</th>\n",
       "      <th>1</th>\n",
       "    </tr>\n",
       "    <tr>\n",
       "      <th>age_dv</th>\n",
       "      <th></th>\n",
       "      <th></th>\n",
       "    </tr>\n",
       "  </thead>\n",
       "  <tbody>\n",
       "    <tr>\n",
       "      <th>1: Gen Z</th>\n",
       "      <td>0.867052</td>\n",
       "      <td>0.132948</td>\n",
       "    </tr>\n",
       "    <tr>\n",
       "      <th>2: Y/Millenials</th>\n",
       "      <td>0.929891</td>\n",
       "      <td>0.070109</td>\n",
       "    </tr>\n",
       "    <tr>\n",
       "      <th>3: X/Boomers</th>\n",
       "      <td>0.845433</td>\n",
       "      <td>0.154567</td>\n",
       "    </tr>\n",
       "  </tbody>\n",
       "</table>\n",
       "</div>"
      ],
      "text/plain": [
       "brew_Pod/capsule machine (e.g. Keurig/Nespresso)         0         1\n",
       "age_dv                                                              \n",
       "1: Gen Z                                          0.867052  0.132948\n",
       "2: Y/Millenials                                   0.929891  0.070109\n",
       "3: X/Boomers                                      0.845433  0.154567"
      ]
     },
     "execution_count": 90,
     "metadata": {},
     "output_type": "execute_result"
    }
   ],
   "source": [
    "df.groupby(\"age_dv\")[\"brew_Pod/capsule machine (e.g. Keurig/Nespresso)\"].value_counts(normalize=True).unstack()"
   ]
  },
  {
   "cell_type": "code",
   "execution_count": 91,
   "metadata": {},
   "outputs": [
    {
     "data": {
      "text/html": [
       "<div>\n",
       "<style scoped>\n",
       "    .dataframe tbody tr th:only-of-type {\n",
       "        vertical-align: middle;\n",
       "    }\n",
       "\n",
       "    .dataframe tbody tr th {\n",
       "        vertical-align: top;\n",
       "    }\n",
       "\n",
       "    .dataframe thead th {\n",
       "        text-align: right;\n",
       "    }\n",
       "</style>\n",
       "<table border=\"1\" class=\"dataframe\">\n",
       "  <thead>\n",
       "    <tr style=\"text-align: right;\">\n",
       "      <th>where_At a cafe</th>\n",
       "      <th>0</th>\n",
       "      <th>1</th>\n",
       "    </tr>\n",
       "    <tr>\n",
       "      <th>age_dv</th>\n",
       "      <th></th>\n",
       "      <th></th>\n",
       "    </tr>\n",
       "  </thead>\n",
       "  <tbody>\n",
       "    <tr>\n",
       "      <th>1: Gen Z</th>\n",
       "      <td>0.595376</td>\n",
       "      <td>0.404624</td>\n",
       "    </tr>\n",
       "    <tr>\n",
       "      <th>2: Y/Millenials</th>\n",
       "      <td>0.684719</td>\n",
       "      <td>0.315281</td>\n",
       "    </tr>\n",
       "    <tr>\n",
       "      <th>3: X/Boomers</th>\n",
       "      <td>0.866511</td>\n",
       "      <td>0.133489</td>\n",
       "    </tr>\n",
       "  </tbody>\n",
       "</table>\n",
       "</div>"
      ],
      "text/plain": [
       "where_At a cafe         0         1\n",
       "age_dv                             \n",
       "1: Gen Z         0.595376  0.404624\n",
       "2: Y/Millenials  0.684719  0.315281\n",
       "3: X/Boomers     0.866511  0.133489"
      ]
     },
     "execution_count": 91,
     "metadata": {},
     "output_type": "execute_result"
    }
   ],
   "source": []
  },
  {
   "cell_type": "code",
   "execution_count": 92,
   "metadata": {},
   "outputs": [
    {
     "data": {
      "text/html": [
       "<div>\n",
       "<style scoped>\n",
       "    .dataframe tbody tr th:only-of-type {\n",
       "        vertical-align: middle;\n",
       "    }\n",
       "\n",
       "    .dataframe tbody tr th {\n",
       "        vertical-align: top;\n",
       "    }\n",
       "\n",
       "    .dataframe thead th {\n",
       "        text-align: right;\n",
       "    }\n",
       "</style>\n",
       "<table border=\"1\" class=\"dataframe\">\n",
       "  <thead>\n",
       "    <tr style=\"text-align: right;\">\n",
       "      <th>spent_equipment</th>\n",
       "      <th>$100-$300</th>\n",
       "      <th>$20-$50</th>\n",
       "      <th>$300-$500</th>\n",
       "      <th>$50-$100</th>\n",
       "      <th>$500-$1000</th>\n",
       "      <th>Less than $20</th>\n",
       "      <th>More than $1,000</th>\n",
       "    </tr>\n",
       "    <tr>\n",
       "      <th>age_dv</th>\n",
       "      <th></th>\n",
       "      <th></th>\n",
       "      <th></th>\n",
       "      <th></th>\n",
       "      <th></th>\n",
       "      <th></th>\n",
       "      <th></th>\n",
       "    </tr>\n",
       "  </thead>\n",
       "  <tbody>\n",
       "    <tr>\n",
       "      <th>1: Gen Z</th>\n",
       "      <td>0.260234</td>\n",
       "      <td>0.073099</td>\n",
       "      <td>0.134503</td>\n",
       "      <td>0.134503</td>\n",
       "      <td>0.160819</td>\n",
       "      <td>0.087719</td>\n",
       "      <td>0.149123</td>\n",
       "    </tr>\n",
       "    <tr>\n",
       "      <th>2: Y/Millenials</th>\n",
       "      <td>0.204890</td>\n",
       "      <td>0.044266</td>\n",
       "      <td>0.187605</td>\n",
       "      <td>0.079680</td>\n",
       "      <td>0.193929</td>\n",
       "      <td>0.041315</td>\n",
       "      <td>0.248314</td>\n",
       "    </tr>\n",
       "    <tr>\n",
       "      <th>3: X/Boomers</th>\n",
       "      <td>0.272300</td>\n",
       "      <td>0.053991</td>\n",
       "      <td>0.145540</td>\n",
       "      <td>0.084507</td>\n",
       "      <td>0.178404</td>\n",
       "      <td>0.046948</td>\n",
       "      <td>0.218310</td>\n",
       "    </tr>\n",
       "  </tbody>\n",
       "</table>\n",
       "</div>"
      ],
      "text/plain": [
       "spent_equipment  $100-$300   $20-$50  $300-$500  $50-$100  $500-$1000  \\\n",
       "age_dv                                                                  \n",
       "1: Gen Z          0.260234  0.073099   0.134503  0.134503    0.160819   \n",
       "2: Y/Millenials   0.204890  0.044266   0.187605  0.079680    0.193929   \n",
       "3: X/Boomers      0.272300  0.053991   0.145540  0.084507    0.178404   \n",
       "\n",
       "spent_equipment  Less than $20  More than $1,000  \n",
       "age_dv                                            \n",
       "1: Gen Z              0.087719          0.149123  \n",
       "2: Y/Millenials       0.041315          0.248314  \n",
       "3: X/Boomers          0.046948          0.218310  "
      ]
     },
     "execution_count": 92,
     "metadata": {},
     "output_type": "execute_result"
    }
   ],
   "source": [
    "df.groupby(\"age_dv\")[\"spent_equipment\"].value_counts(normalize=True).unstack() "
   ]
  },
  {
   "cell_type": "code",
   "execution_count": 93,
   "metadata": {},
   "outputs": [
    {
     "data": {
      "text/html": [
       "<div>\n",
       "<style scoped>\n",
       "    .dataframe tbody tr th:only-of-type {\n",
       "        vertical-align: middle;\n",
       "    }\n",
       "\n",
       "    .dataframe tbody tr th {\n",
       "        vertical-align: top;\n",
       "    }\n",
       "\n",
       "    .dataframe thead th {\n",
       "        text-align: right;\n",
       "    }\n",
       "</style>\n",
       "<table border=\"1\" class=\"dataframe\">\n",
       "  <thead>\n",
       "    <tr style=\"text-align: right;\">\n",
       "      <th>add_No - just black</th>\n",
       "      <th>0</th>\n",
       "      <th>1</th>\n",
       "    </tr>\n",
       "    <tr>\n",
       "      <th>age_dv</th>\n",
       "      <th></th>\n",
       "      <th></th>\n",
       "    </tr>\n",
       "  </thead>\n",
       "  <tbody>\n",
       "    <tr>\n",
       "      <th>1: Gen Z</th>\n",
       "      <td>0.332370</td>\n",
       "      <td>0.667630</td>\n",
       "    </tr>\n",
       "    <tr>\n",
       "      <th>2: Y/Millenials</th>\n",
       "      <td>0.290092</td>\n",
       "      <td>0.709908</td>\n",
       "    </tr>\n",
       "    <tr>\n",
       "      <th>3: X/Boomers</th>\n",
       "      <td>0.459016</td>\n",
       "      <td>0.540984</td>\n",
       "    </tr>\n",
       "  </tbody>\n",
       "</table>\n",
       "</div>"
      ],
      "text/plain": [
       "add_No - just black         0         1\n",
       "age_dv                                 \n",
       "1: Gen Z             0.332370  0.667630\n",
       "2: Y/Millenials      0.290092  0.709908\n",
       "3: X/Boomers         0.459016  0.540984"
      ]
     },
     "execution_count": 93,
     "metadata": {},
     "output_type": "execute_result"
    }
   ],
   "source": [
    "df.groupby(\"age_dv\")[\"add_No - just black\"].value_counts(normalize=True).unstack() "
   ]
  },
  {
   "cell_type": "code",
   "execution_count": 94,
   "metadata": {},
   "outputs": [
    {
     "data": {
      "text/html": [
       "<div>\n",
       "<style scoped>\n",
       "    .dataframe tbody tr th:only-of-type {\n",
       "        vertical-align: middle;\n",
       "    }\n",
       "\n",
       "    .dataframe tbody tr th {\n",
       "        vertical-align: top;\n",
       "    }\n",
       "\n",
       "    .dataframe thead th {\n",
       "        text-align: right;\n",
       "    }\n",
       "</style>\n",
       "<table border=\"1\" class=\"dataframe\">\n",
       "  <thead>\n",
       "    <tr style=\"text-align: right;\">\n",
       "      <th>why_Taste</th>\n",
       "      <th>0</th>\n",
       "      <th>1</th>\n",
       "    </tr>\n",
       "    <tr>\n",
       "      <th>age_dv</th>\n",
       "      <th></th>\n",
       "      <th></th>\n",
       "    </tr>\n",
       "  </thead>\n",
       "  <tbody>\n",
       "    <tr>\n",
       "      <th>1: Gen Z</th>\n",
       "      <td>0.037572</td>\n",
       "      <td>0.962428</td>\n",
       "    </tr>\n",
       "    <tr>\n",
       "      <th>2: Y/Millenials</th>\n",
       "      <td>0.032326</td>\n",
       "      <td>0.967674</td>\n",
       "    </tr>\n",
       "    <tr>\n",
       "      <th>3: X/Boomers</th>\n",
       "      <td>0.096019</td>\n",
       "      <td>0.903981</td>\n",
       "    </tr>\n",
       "  </tbody>\n",
       "</table>\n",
       "</div>"
      ],
      "text/plain": [
       "why_Taste               0         1\n",
       "age_dv                             \n",
       "1: Gen Z         0.037572  0.962428\n",
       "2: Y/Millenials  0.032326  0.967674\n",
       "3: X/Boomers     0.096019  0.903981"
      ]
     },
     "execution_count": 94,
     "metadata": {},
     "output_type": "execute_result"
    }
   ],
   "source": [
    "df.groupby(\"age_dv\")[\"why_Taste\"].value_counts(normalize=True).unstack() "
   ]
  },
  {
   "cell_type": "code",
   "execution_count": 95,
   "metadata": {},
   "outputs": [
    {
     "data": {
      "text/html": [
       "<div>\n",
       "<style scoped>\n",
       "    .dataframe tbody tr th:only-of-type {\n",
       "        vertical-align: middle;\n",
       "    }\n",
       "\n",
       "    .dataframe tbody tr th {\n",
       "        vertical-align: top;\n",
       "    }\n",
       "\n",
       "    .dataframe thead th {\n",
       "        text-align: right;\n",
       "    }\n",
       "</style>\n",
       "<table border=\"1\" class=\"dataframe\">\n",
       "  <thead>\n",
       "    <tr style=\"text-align: right;\">\n",
       "      <th>why_To poop</th>\n",
       "      <th>0</th>\n",
       "      <th>1</th>\n",
       "    </tr>\n",
       "    <tr>\n",
       "      <th>age_dv</th>\n",
       "      <th></th>\n",
       "      <th></th>\n",
       "    </tr>\n",
       "  </thead>\n",
       "  <tbody>\n",
       "    <tr>\n",
       "      <th>1: Gen Z</th>\n",
       "      <td>0.832370</td>\n",
       "      <td>0.167630</td>\n",
       "    </tr>\n",
       "    <tr>\n",
       "      <th>2: Y/Millenials</th>\n",
       "      <td>0.858102</td>\n",
       "      <td>0.141898</td>\n",
       "    </tr>\n",
       "    <tr>\n",
       "      <th>3: X/Boomers</th>\n",
       "      <td>0.941452</td>\n",
       "      <td>0.058548</td>\n",
       "    </tr>\n",
       "  </tbody>\n",
       "</table>\n",
       "</div>"
      ],
      "text/plain": [
       "why_To poop             0         1\n",
       "age_dv                             \n",
       "1: Gen Z         0.832370  0.167630\n",
       "2: Y/Millenials  0.858102  0.141898\n",
       "3: X/Boomers     0.941452  0.058548"
      ]
     },
     "execution_count": 95,
     "metadata": {},
     "output_type": "execute_result"
    }
   ],
   "source": [
    "df.groupby(\"age_dv\")[\"why_To poop\"].value_counts(normalize=True).unstack() "
   ]
  },
  {
   "cell_type": "code",
   "execution_count": 96,
   "metadata": {},
   "outputs": [
    {
     "data": {
      "text/html": [
       "<div>\n",
       "<style scoped>\n",
       "    .dataframe tbody tr th:only-of-type {\n",
       "        vertical-align: middle;\n",
       "    }\n",
       "\n",
       "    .dataframe tbody tr th {\n",
       "        vertical-align: top;\n",
       "    }\n",
       "\n",
       "    .dataframe thead th {\n",
       "        text-align: right;\n",
       "    }\n",
       "</style>\n",
       "<table border=\"1\" class=\"dataframe\">\n",
       "  <thead>\n",
       "    <tr style=\"text-align: right;\">\n",
       "      <th>why_Caffeine</th>\n",
       "      <th>0</th>\n",
       "      <th>1</th>\n",
       "    </tr>\n",
       "    <tr>\n",
       "      <th>age_dv</th>\n",
       "      <th></th>\n",
       "      <th></th>\n",
       "    </tr>\n",
       "  </thead>\n",
       "  <tbody>\n",
       "    <tr>\n",
       "      <th>1: Gen Z</th>\n",
       "      <td>0.459538</td>\n",
       "      <td>0.540462</td>\n",
       "    </tr>\n",
       "    <tr>\n",
       "      <th>2: Y/Millenials</th>\n",
       "      <td>0.400924</td>\n",
       "      <td>0.599076</td>\n",
       "    </tr>\n",
       "    <tr>\n",
       "      <th>3: X/Boomers</th>\n",
       "      <td>0.524590</td>\n",
       "      <td>0.475410</td>\n",
       "    </tr>\n",
       "  </tbody>\n",
       "</table>\n",
       "</div>"
      ],
      "text/plain": [
       "why_Caffeine            0         1\n",
       "age_dv                             \n",
       "1: Gen Z         0.459538  0.540462\n",
       "2: Y/Millenials  0.400924  0.599076\n",
       "3: X/Boomers     0.524590  0.475410"
      ]
     },
     "execution_count": 96,
     "metadata": {},
     "output_type": "execute_result"
    }
   ],
   "source": [
    "df.groupby(\"age_dv\")[\"why_Caffeine\"].value_counts(normalize=True).unstack() "
   ]
  },
  {
   "cell_type": "code",
   "execution_count": 97,
   "metadata": {},
   "outputs": [
    {
     "data": {
      "text/html": [
       "<div>\n",
       "<style scoped>\n",
       "    .dataframe tbody tr th:only-of-type {\n",
       "        vertical-align: middle;\n",
       "    }\n",
       "\n",
       "    .dataframe tbody tr th {\n",
       "        vertical-align: top;\n",
       "    }\n",
       "\n",
       "    .dataframe thead th {\n",
       "        text-align: right;\n",
       "    }\n",
       "</style>\n",
       "<table border=\"1\" class=\"dataframe\">\n",
       "  <thead>\n",
       "    <tr style=\"text-align: right;\">\n",
       "      <th>why_Ritual</th>\n",
       "      <th>0</th>\n",
       "      <th>1</th>\n",
       "    </tr>\n",
       "    <tr>\n",
       "      <th>age_dv</th>\n",
       "      <th></th>\n",
       "      <th></th>\n",
       "    </tr>\n",
       "  </thead>\n",
       "  <tbody>\n",
       "    <tr>\n",
       "      <th>1: Gen Z</th>\n",
       "      <td>0.482659</td>\n",
       "      <td>0.517341</td>\n",
       "    </tr>\n",
       "    <tr>\n",
       "      <th>2: Y/Millenials</th>\n",
       "      <td>0.403862</td>\n",
       "      <td>0.596138</td>\n",
       "    </tr>\n",
       "    <tr>\n",
       "      <th>3: X/Boomers</th>\n",
       "      <td>0.583138</td>\n",
       "      <td>0.416862</td>\n",
       "    </tr>\n",
       "  </tbody>\n",
       "</table>\n",
       "</div>"
      ],
      "text/plain": [
       "why_Ritual              0         1\n",
       "age_dv                             \n",
       "1: Gen Z         0.482659  0.517341\n",
       "2: Y/Millenials  0.403862  0.596138\n",
       "3: X/Boomers     0.583138  0.416862"
      ]
     },
     "execution_count": 97,
     "metadata": {},
     "output_type": "execute_result"
    }
   ],
   "source": [
    "df.groupby(\"age_dv\")[\"why_Ritual\"].value_counts(normalize=True).unstack() "
   ]
  },
  {
   "cell_type": "code",
   "execution_count": 98,
   "metadata": {},
   "outputs": [
    {
     "data": {
      "text/plain": [
       "<matplotlib.legend.Legend at 0x23ab19ef730>"
      ]
     },
     "execution_count": 98,
     "metadata": {},
     "output_type": "execute_result"
    },
    {
     "data": {
      "image/png": "[encoded data removed]",
      "text/plain": [
       "<Figure size 432x288 with 1 Axes>"
      ]
     },
     "metadata": {
      "needs_background": "light"
     },
     "output_type": "display_data"
    }
   ],
   "source": [
    "test = df.groupby(\"age_dv\")[\"add_total\"].value_counts(normalize=True).unstack() \n",
    "\n",
    "#create stacked bar chart\n",
    "test.plot(kind='barh', stacked=True)\n",
    "plt.legend(loc='upper left',  bbox_to_anchor=(1, 1))"
   ]
  },
  {
   "cell_type": "code",
   "execution_count": 23,
   "metadata": {},
   "outputs": [
    {
     "data": {
      "text/plain": [
       "Index(['submission_id', 'age', 'cups', 'where_drink', 'brew', 'brew_other',\n",
       "       'purchase', 'purchase_other', 'favorite', 'favorite_specify',\n",
       "       'additions', 'additions_other', 'dairy', 'sweetener', 'style',\n",
       "       'strength', 'roast_level', 'caffeine', 'expertise',\n",
       "       'coffee_a_bitterness', 'coffee_a_acidity',\n",
       "       'coffee_a_personal_preference', 'coffee_a_notes', 'coffee_b_bitterness',\n",
       "       'coffee_b_acidity', 'coffee_b_personal_preference', 'coffee_b_notes',\n",
       "       'coffee_c_bitterness', 'coffee_c_acidity',\n",
       "       'coffee_c_personal_preference', 'coffee_c_notes', 'coffee_d_bitterness',\n",
       "       'coffee_d_acidity', 'coffee_d_personal_preference', 'coffee_d_notes',\n",
       "       'prefer_abc', 'prefer_ad', 'prefer_overall', 'wfh', 'total_spend',\n",
       "       'why_drink', 'why_drink_other', 'taste', 'know_source', 'most_paid',\n",
       "       'most_willing', 'value_cafe', 'spent_equipment', 'value_equipment',\n",
       "       'gender', 'gender_specify', 'education_level', 'ethnicity_race',\n",
       "       'ethnicity_race_specify', 'employment_status', 'number_children',\n",
       "       'political_affiliation', 'brew_Bean-to-cup machine',\n",
       "       'brew_Coffee brewing machine (e.g. Mr. Coffee)',\n",
       "       'brew_Coffee extract (e.g. Cometeer)', 'brew_Cold brew',\n",
       "       'brew_Espresso', 'brew_French press', 'brew_Instant coffee',\n",
       "       'brew_Other', 'brew_Pod/capsule machine (e.g. Keurig/Nespresso)',\n",
       "       'brew_Pour over', 'add_Cinnamon', 'add_Flavor syrup', 'add_Half & half',\n",
       "       'add_Milk', 'add_No - just black', 'add_Other',\n",
       "       'add_Sugar or sweetener', 'add_dairy alternative',\n",
       "       'add_or coffee creamer', 'where_At a cafe', 'where_At home',\n",
       "       'where_At the office', 'where_None of these', 'where_On the go',\n",
       "       'purch_Deli or supermarket', 'purch_Drive-thru', 'purch_Dunkin)',\n",
       "       'purch_Local cafe', 'purch_National chain (e.g. Starbucks',\n",
       "       'purch_Other', 'purch_Specialty coffee shop', 'add_any milk',\n",
       "       'add_total', 'age_dv', 'most_paid_dv', 'most_willing_dv',\n",
       "       'total_spend_dv', 'cups_n', 'cups_dv'],\n",
       "      dtype='object')"
      ]
     },
     "execution_count": 23,
     "metadata": {},
     "output_type": "execute_result"
    }
   ],
   "source": [
    "df.columns"
   ]
  },
  {
   "cell_type": "code",
   "execution_count": 24,
   "metadata": {},
   "outputs": [
    {
     "data": {
      "text/html": [
       "<div>\n",
       "<style scoped>\n",
       "    .dataframe tbody tr th:only-of-type {\n",
       "        vertical-align: middle;\n",
       "    }\n",
       "\n",
       "    .dataframe tbody tr th {\n",
       "        vertical-align: top;\n",
       "    }\n",
       "\n",
       "    .dataframe thead th {\n",
       "        text-align: right;\n",
       "    }\n",
       "</style>\n",
       "<table border=\"1\" class=\"dataframe\">\n",
       "  <thead>\n",
       "    <tr style=\"text-align: right;\">\n",
       "      <th></th>\n",
       "      <th>count</th>\n",
       "      <th>unique</th>\n",
       "      <th>top</th>\n",
       "      <th>freq</th>\n",
       "    </tr>\n",
       "    <tr>\n",
       "      <th>age_dv</th>\n",
       "      <th></th>\n",
       "      <th></th>\n",
       "      <th></th>\n",
       "      <th></th>\n",
       "    </tr>\n",
       "  </thead>\n",
       "  <tbody>\n",
       "    <tr>\n",
       "      <th>18-24</th>\n",
       "      <td>334</td>\n",
       "      <td>6</td>\n",
       "      <td>1</td>\n",
       "      <td>135</td>\n",
       "    </tr>\n",
       "    <tr>\n",
       "      <th>25-34</th>\n",
       "      <td>1611</td>\n",
       "      <td>6</td>\n",
       "      <td>2</td>\n",
       "      <td>720</td>\n",
       "    </tr>\n",
       "    <tr>\n",
       "      <th>35-44</th>\n",
       "      <td>772</td>\n",
       "      <td>6</td>\n",
       "      <td>2</td>\n",
       "      <td>359</td>\n",
       "    </tr>\n",
       "    <tr>\n",
       "      <th>&gt;45</th>\n",
       "      <td>428</td>\n",
       "      <td>6</td>\n",
       "      <td>2</td>\n",
       "      <td>187</td>\n",
       "    </tr>\n",
       "  </tbody>\n",
       "</table>\n",
       "</div>"
      ],
      "text/plain": [
       "       count unique top freq\n",
       "age_dv                      \n",
       "18-24    334      6   1  135\n",
       "25-34   1611      6   2  720\n",
       "35-44    772      6   2  359\n",
       ">45      428      6   2  187"
      ]
     },
     "execution_count": 24,
     "metadata": {},
     "output_type": "execute_result"
    }
   ],
   "source": [
    "df.groupby(\"age_dv\")[\"cups_dv\"].describe()"
   ]
  },
  {
   "cell_type": "code",
   "execution_count": null,
   "metadata": {},
   "outputs": [],
   "source": [
    " 'why_Caffeine',\n",
    "       'why_Ritual', 'why_To poop', 'why_Taste'"
   ]
  }
 ],
 "metadata": {
  "kernelspec": {
   "display_name": "py3_viz",
   "language": "python",
   "name": "python3"
  },
  "language_info": {
   "codemirror_mode": {
    "name": "ipython",
    "version": 3
   },
   "file_extension": ".py",
   "mimetype": "text/x-python",
   "name": "python",
   "nbconvert_exporter": "python",
   "pygments_lexer": "ipython3",
   "version": "3.9.2"
  }
 },
 "nbformat": 4,
 "nbformat_minor": 2
}

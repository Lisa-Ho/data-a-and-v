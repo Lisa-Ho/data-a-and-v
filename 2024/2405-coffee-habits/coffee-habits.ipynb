{
 "cells": [
  {
   "cell_type": "code",
   "execution_count": 182,
   "metadata": {},
   "outputs": [],
   "source": [
    "import pandas as pd\n",
    "import matplotlib.pyplot as plt\n",
    "import numpy as np\n",
    "import seaborn as sns"
   ]
  },
  {
   "cell_type": "markdown",
   "metadata": {},
   "source": [
    "## Load data"
   ]
  },
  {
   "cell_type": "code",
   "execution_count": 83,
   "metadata": {},
   "outputs": [],
   "source": [
    "df = pd.read_csv(\"coffee_survey.csv\")"
   ]
  },
  {
   "cell_type": "code",
   "execution_count": 84,
   "metadata": {},
   "outputs": [],
   "source": [
    "# Cleaning ---------------\n",
    "\n",
    "# Replace \"NA\" with NaN\n",
    "df.replace(\"NA\", pd.NA, inplace=True)\n",
    "\n",
    "# Split the comma-separated values into separate columns\n",
    "df = df.join(df['brew'].str.get_dummies(', ').add_prefix(\"brew_\"))\n",
    "df = df.join(df['additions'].str.get_dummies(', ').add_prefix(\"add_\"))\n",
    "df = df.join(df['where_drink'].str.get_dummies(', ').add_prefix(\"where_\"))\n",
    "df = df.join(df['purchase'].str.get_dummies(', ').add_prefix(\"purch_\"))\n",
    "\n",
    "# number of additions\n",
    "df[\"add_any milk\"] = df[[\"add_Milk\", \"add_dairy alternative\", \"add_or coffee creamer\"]].mean(axis=1)\n",
    "df[\"add_total\"] = df[['add_Cinnamon', 'add_Flavor syrup', 'add_Half & half',\n",
    "       'add_any milk', 'add_Other', 'add_Sugar or sweetener']].sum(axis=1)"
   ]
  },
  {
   "cell_type": "code",
   "execution_count": 85,
   "metadata": {},
   "outputs": [],
   "source": [
    "# combine age groups with low sample numbers\n",
    "age_groups = {'18-24 years old': '18-24', \n",
    "              '25-34 years old': '25-34', \n",
    "              '35-44 years old': '35-44',\n",
    "                '55-64 years old': '>45',\n",
    "                '<18 years old': pd.NA,\n",
    "                 '>65 years old': '>45',\n",
    "                 '45-54 years old': '>45'\n",
    "                 }\n",
    "df[\"age_dv\"] = df[\"age\"].map(age_groups)"
   ]
  },
  {
   "cell_type": "code",
   "execution_count": 86,
   "metadata": {},
   "outputs": [],
   "source": [
    "most_paid_bands = {'Less than $2':  \"<$6\",\n",
    "                    '$4-$6': \"<$6\", \n",
    "                   '$2-$4':\"<$6\",\n",
    "                   '$10-$15': \">$10\", \n",
    "                   '$6-$8': \"$6-$8\",\n",
    "                    '$8-$10': '$8-$10',\n",
    "                  'More than $20': \">$10\", \n",
    "                  '$15-$20': \">$10\" }\n",
    "\n",
    "df[\"most_paid_dv\"] = df[\"most_paid\"].map(most_paid_bands)\n",
    "df[\"most_willing_dv\"] = df[\"most_willing\"].map(most_paid_bands)"
   ]
  },
  {
   "cell_type": "code",
   "execution_count": 100,
   "metadata": {},
   "outputs": [],
   "source": [
    "total_spend_bands  = {'>$100': '>$60', '$40-$60': '$40-$60', '$20-$40':'$20-$40' , '$60-$80': '>$60', '<$20': '<$20', '$80-$100': '>$60'}\n",
    "df[\"total_spend_dv\"] = df[\"total_spend\"].map(total_spend_bands)"
   ]
  },
  {
   "cell_type": "code",
   "execution_count": 87,
   "metadata": {},
   "outputs": [],
   "source": [
    "cups_n = {'Less than 1':  0.5,\n",
    "          '1': 1,\n",
    "          '2': 2, \n",
    "          '3':3,\n",
    "          '4':4,\n",
    "          'More than 4': 4.5}\n",
    "\n",
    "cups_dv = {'Less than 1':  '<1',\n",
    "          '1': '1',\n",
    "          '2': '2', \n",
    "          '3':'3',\n",
    "          '4':'4',\n",
    "          'More than 4': '>4'}\n",
    "\n",
    "\n",
    "df[\"cups_n\"] = df[\"cups\"].map(cups_n)\n",
    "df[\"cups_dv\"] = df[\"cups\"].map(cups_dv)"
   ]
  },
  {
   "cell_type": "code",
   "execution_count": 88,
   "metadata": {},
   "outputs": [
    {
     "data": {
      "text/plain": [
       "array([nan, '$8-$10', 'More than $20', '$15-$20', '$4-$6', '$6-$8',\n",
       "       '$10-$15', '$2-$4', 'Less than $2'], dtype=object)"
      ]
     },
     "execution_count": 88,
     "metadata": {},
     "output_type": "execute_result"
    }
   ],
   "source": [
    "df[\"most_willing\"].unique()"
   ]
  },
  {
   "cell_type": "code",
   "execution_count": null,
   "metadata": {},
   "outputs": [],
   "source": []
  },
  {
   "cell_type": "code",
   "execution_count": 133,
   "metadata": {},
   "outputs": [
    {
     "data": {
      "text/plain": [
       "3157"
      ]
     },
     "execution_count": 133,
     "metadata": {},
     "output_type": "execute_result"
    }
   ],
   "source": [
    "len(df.dropna(how='any', subset=[\n",
    "    'age', 'cups', \n",
    "    'where_drink', 'brew', \n",
    "    'favorite', 'additions',  \n",
    "    #'dairy', 'sweetener', 'style',\n",
    "    #'strength', 'roast_level', 'caffeine', 'expertise',\n",
    "    'total_spend','why_drink', 'most_paid',\n",
    "    'most_willing', 'value_cafe', \n",
    "    #'spent_equipment', 'value_equipment'\n",
    "    ]))"
   ]
  },
  {
   "cell_type": "code",
   "execution_count": 134,
   "metadata": {},
   "outputs": [],
   "source": [
    "df = df.dropna(how='any', subset=[\n",
    "    'age', 'cups', \n",
    "    'where_drink', 'brew', \n",
    "    'favorite', 'additions',  \n",
    "    #'dairy', 'sweetener', 'style',\n",
    "    #'strength', 'roast_level', 'caffeine', 'expertise',\n",
    "    'total_spend','why_drink', 'most_paid',\n",
    "    'most_willing', 'value_cafe', \n",
    "    #'spent_equipment', 'value_equipment'\n",
    "    ])"
   ]
  },
  {
   "cell_type": "code",
   "execution_count": 161,
   "metadata": {},
   "outputs": [
    {
     "data": {
      "text/plain": [
       "Index(['submission_id', 'age', 'cups', 'where_drink', 'brew', 'brew_other',\n",
       "       'purchase', 'purchase_other', 'favorite', 'favorite_specify',\n",
       "       'additions', 'additions_other', 'dairy', 'sweetener', 'style',\n",
       "       'strength', 'roast_level', 'caffeine', 'expertise',\n",
       "       'coffee_a_bitterness', 'coffee_a_acidity',\n",
       "       'coffee_a_personal_preference', 'coffee_a_notes', 'coffee_b_bitterness',\n",
       "       'coffee_b_acidity', 'coffee_b_personal_preference', 'coffee_b_notes',\n",
       "       'coffee_c_bitterness', 'coffee_c_acidity',\n",
       "       'coffee_c_personal_preference', 'coffee_c_notes', 'coffee_d_bitterness',\n",
       "       'coffee_d_acidity', 'coffee_d_personal_preference', 'coffee_d_notes',\n",
       "       'prefer_abc', 'prefer_ad', 'prefer_overall', 'wfh', 'total_spend',\n",
       "       'why_drink', 'why_drink_other', 'taste', 'know_source', 'most_paid',\n",
       "       'most_willing', 'value_cafe', 'spent_equipment', 'value_equipment',\n",
       "       'gender', 'gender_specify', 'education_level', 'ethnicity_race',\n",
       "       'ethnicity_race_specify', 'employment_status', 'number_children',\n",
       "       'political_affiliation', 'brew_Bean-to-cup machine',\n",
       "       'brew_Coffee brewing machine (e.g. Mr. Coffee)',\n",
       "       'brew_Coffee extract (e.g. Cometeer)', 'brew_Cold brew',\n",
       "       'brew_Espresso', 'brew_French press', 'brew_Instant coffee',\n",
       "       'brew_Other', 'brew_Pod/capsule machine (e.g. Keurig/Nespresso)',\n",
       "       'brew_Pour over', 'add_Cinnamon', 'add_Flavor syrup', 'add_Half & half',\n",
       "       'add_Milk', 'add_No - just black', 'add_Other',\n",
       "       'add_Sugar or sweetener', 'add_dairy alternative',\n",
       "       'add_or coffee creamer', 'where_At a cafe', 'where_At home',\n",
       "       'where_At the office', 'where_None of these', 'where_On the go',\n",
       "       'add_any milk', 'add_total', 'age_dv', 'most_paid_dv',\n",
       "       'most_willing_dv', 'cups_n', 'cups_dv', 'total_spend_dv',\n",
       "       'purch_Deli or supermarket', 'purch_Drive-thru', 'purch_Dunkin)',\n",
       "       'purch_Local cafe', 'purch_National chain (e.g. Starbucks',\n",
       "       'purch_Other', 'purch_Specialty coffee shop'],\n",
       "      dtype='object')"
      ]
     },
     "execution_count": 161,
     "metadata": {},
     "output_type": "execute_result"
    }
   ],
   "source": [
    "df.columns"
   ]
  },
  {
   "cell_type": "markdown",
   "metadata": {},
   "source": [
    "## Explore"
   ]
  },
  {
   "cell_type": "code",
   "execution_count": 191,
   "metadata": {},
   "outputs": [
    {
     "data": {
      "text/plain": [
       "<matplotlib.legend.Legend at 0x1fb6cf73ee0>"
      ]
     },
     "execution_count": 191,
     "metadata": {},
     "output_type": "execute_result"
    },
    {
     "data": {
      "image/png": "[encoded data removed]",
      "text/plain": [
       "<Figure size 432x288 with 1 Axes>"
      ]
     },
     "metadata": {
      "needs_background": "light"
     },
     "output_type": "display_data"
    }
   ],
   "source": [
    "test = df.groupby(\"age_dv\")[\"cups_dv\"].value_counts(normalize=True).unstack() *100\n",
    "\n",
    "#create stacked bar chart\n",
    "test.plot(kind='barh', stacked=True)\n",
    "plt.legend(loc='upper left',  bbox_to_anchor=(1, 1))"
   ]
  },
  {
   "cell_type": "code",
   "execution_count": 190,
   "metadata": {},
   "outputs": [
    {
     "data": {
      "text/plain": [
       "<matplotlib.legend.Legend at 0x1fb6b34a2e0>"
      ]
     },
     "execution_count": 190,
     "metadata": {},
     "output_type": "execute_result"
    },
    {
     "data": {
      "image/png": "[encoded data removed]",
      "text/plain": [
       "<Figure size 432x288 with 1 Axes>"
      ]
     },
     "metadata": {
      "needs_background": "light"
     },
     "output_type": "display_data"
    }
   ],
   "source": [
    "test = df.groupby(\"age_dv\")[\"most_paid_dv\"].value_counts(normalize=True).unstack() *100\n",
    "\n",
    "#create stacked bar chart\n",
    "test.plot(kind='barh', stacked=True)\n",
    "plt.legend(loc='upper left',  bbox_to_anchor=(1, 1))"
   ]
  },
  {
   "cell_type": "code",
   "execution_count": 189,
   "metadata": {},
   "outputs": [
    {
     "data": {
      "text/plain": [
       "<matplotlib.legend.Legend at 0x1fb6ba6fee0>"
      ]
     },
     "execution_count": 189,
     "metadata": {},
     "output_type": "execute_result"
    },
    {
     "data": {
      "image/png": "[encoded data removed]",
      "text/plain": [
       "<Figure size 432x288 with 1 Axes>"
      ]
     },
     "metadata": {
      "needs_background": "light"
     },
     "output_type": "display_data"
    }
   ],
   "source": [
    "test = df.groupby(\"age_dv\")[\"most_willing_dv\"].value_counts(normalize=True).unstack() *100\n",
    "\n",
    "#create stacked bar chart\n",
    "test.plot(kind='barh', stacked=True)\n",
    "plt.legend(loc='upper left',  bbox_to_anchor=(1, 1))"
   ]
  },
  {
   "cell_type": "code",
   "execution_count": 207,
   "metadata": {},
   "outputs": [
    {
     "data": {
      "text/plain": [
       "<matplotlib.legend.Legend at 0x1fb6cfef730>"
      ]
     },
     "execution_count": 207,
     "metadata": {},
     "output_type": "execute_result"
    },
    {
     "data": {
      "image/png": "[encoded data removed]",
      "text/plain": [
       "<Figure size 432x288 with 1 Axes>"
      ]
     },
     "metadata": {
      "needs_background": "light"
     },
     "output_type": "display_data"
    }
   ],
   "source": [
    "test = df.groupby(\"age_dv\")[\"value_cafe\"].value_counts(normalize=True).to_frame().rename(columns={\"value_cafe\": \"proportion\"}).reset_index()\n",
    "sns.barplot(x='age_dv', y='proportion', hue='value_cafe', data=test) \n",
    "plt.legend(loc='upper left',  bbox_to_anchor=(1, 1))"
   ]
  },
  {
   "cell_type": "code",
   "execution_count": 186,
   "metadata": {},
   "outputs": [
    {
     "data": {
      "text/plain": [
       "<matplotlib.legend.Legend at 0x1fb6ba64910>"
      ]
     },
     "execution_count": 186,
     "metadata": {},
     "output_type": "execute_result"
    },
    {
     "data": {
      "image/png": "[encoded data removed]",
      "text/plain": [
       "<Figure size 432x288 with 1 Axes>"
      ]
     },
     "metadata": {
      "needs_background": "light"
     },
     "output_type": "display_data"
    }
   ],
   "source": [
    "test = df.groupby(\"age_dv\")[\"total_spend_dv\"].value_counts(normalize=True).unstack()\n",
    "\n",
    "#create stacked bar chart\n",
    "test.plot(kind='barh', stacked=True)\n",
    "plt.legend(loc='upper left',  bbox_to_anchor=(1, 1))"
   ]
  },
  {
   "cell_type": "code",
   "execution_count": 144,
   "metadata": {},
   "outputs": [
    {
     "data": {
      "text/html": [
       "<div>\n",
       "<style scoped>\n",
       "    .dataframe tbody tr th:only-of-type {\n",
       "        vertical-align: middle;\n",
       "    }\n",
       "\n",
       "    .dataframe tbody tr th {\n",
       "        vertical-align: top;\n",
       "    }\n",
       "\n",
       "    .dataframe thead th {\n",
       "        text-align: right;\n",
       "    }\n",
       "</style>\n",
       "<table border=\"1\" class=\"dataframe\">\n",
       "  <thead>\n",
       "    <tr style=\"text-align: right;\">\n",
       "      <th>add_Flavor syrup</th>\n",
       "      <th>0</th>\n",
       "      <th>1</th>\n",
       "    </tr>\n",
       "    <tr>\n",
       "      <th>age_dv</th>\n",
       "      <th></th>\n",
       "      <th></th>\n",
       "    </tr>\n",
       "  </thead>\n",
       "  <tbody>\n",
       "    <tr>\n",
       "      <th>18-24</th>\n",
       "      <td>0.913174</td>\n",
       "      <td>0.086826</td>\n",
       "    </tr>\n",
       "    <tr>\n",
       "      <th>25-34</th>\n",
       "      <td>0.944134</td>\n",
       "      <td>0.055866</td>\n",
       "    </tr>\n",
       "    <tr>\n",
       "      <th>35-44</th>\n",
       "      <td>0.961140</td>\n",
       "      <td>0.038860</td>\n",
       "    </tr>\n",
       "    <tr>\n",
       "      <th>&gt;45</th>\n",
       "      <td>0.969626</td>\n",
       "      <td>0.030374</td>\n",
       "    </tr>\n",
       "  </tbody>\n",
       "</table>\n",
       "</div>"
      ],
      "text/plain": [
       "add_Flavor syrup         0         1\n",
       "age_dv                              \n",
       "18-24             0.913174  0.086826\n",
       "25-34             0.944134  0.055866\n",
       "35-44             0.961140  0.038860\n",
       ">45               0.969626  0.030374"
      ]
     },
     "execution_count": 144,
     "metadata": {},
     "output_type": "execute_result"
    }
   ],
   "source": [
    "df.groupby(\"age_dv\")[\"add_Flavor syrup\"].value_counts(normalize=True).unstack()"
   ]
  },
  {
   "cell_type": "code",
   "execution_count": 145,
   "metadata": {},
   "outputs": [
    {
     "data": {
      "text/html": [
       "<div>\n",
       "<style scoped>\n",
       "    .dataframe tbody tr th:only-of-type {\n",
       "        vertical-align: middle;\n",
       "    }\n",
       "\n",
       "    .dataframe tbody tr th {\n",
       "        vertical-align: top;\n",
       "    }\n",
       "\n",
       "    .dataframe thead th {\n",
       "        text-align: right;\n",
       "    }\n",
       "</style>\n",
       "<table border=\"1\" class=\"dataframe\">\n",
       "  <thead>\n",
       "    <tr style=\"text-align: right;\">\n",
       "      <th>add_dairy alternative</th>\n",
       "      <th>0</th>\n",
       "      <th>1</th>\n",
       "    </tr>\n",
       "    <tr>\n",
       "      <th>age_dv</th>\n",
       "      <th></th>\n",
       "      <th></th>\n",
       "    </tr>\n",
       "  </thead>\n",
       "  <tbody>\n",
       "    <tr>\n",
       "      <th>18-24</th>\n",
       "      <td>0.589820</td>\n",
       "      <td>0.410180</td>\n",
       "    </tr>\n",
       "    <tr>\n",
       "      <th>25-34</th>\n",
       "      <td>0.610180</td>\n",
       "      <td>0.389820</td>\n",
       "    </tr>\n",
       "    <tr>\n",
       "      <th>35-44</th>\n",
       "      <td>0.571244</td>\n",
       "      <td>0.428756</td>\n",
       "    </tr>\n",
       "    <tr>\n",
       "      <th>&gt;45</th>\n",
       "      <td>0.507009</td>\n",
       "      <td>0.492991</td>\n",
       "    </tr>\n",
       "  </tbody>\n",
       "</table>\n",
       "</div>"
      ],
      "text/plain": [
       "add_dairy alternative         0         1\n",
       "age_dv                                   \n",
       "18-24                  0.589820  0.410180\n",
       "25-34                  0.610180  0.389820\n",
       "35-44                  0.571244  0.428756\n",
       ">45                    0.507009  0.492991"
      ]
     },
     "execution_count": 145,
     "metadata": {},
     "output_type": "execute_result"
    }
   ],
   "source": [
    "df.groupby(\"age_dv\")[\"add_dairy alternative\"].value_counts(normalize=True).unstack() "
   ]
  },
  {
   "cell_type": "code",
   "execution_count": 148,
   "metadata": {},
   "outputs": [
    {
     "data": {
      "text/html": [
       "<div>\n",
       "<style scoped>\n",
       "    .dataframe tbody tr th:only-of-type {\n",
       "        vertical-align: middle;\n",
       "    }\n",
       "\n",
       "    .dataframe tbody tr th {\n",
       "        vertical-align: top;\n",
       "    }\n",
       "\n",
       "    .dataframe thead th {\n",
       "        text-align: right;\n",
       "    }\n",
       "</style>\n",
       "<table border=\"1\" class=\"dataframe\">\n",
       "  <thead>\n",
       "    <tr style=\"text-align: right;\">\n",
       "      <th>brew_Pod/capsule machine (e.g. Keurig/Nespresso)</th>\n",
       "      <th>0</th>\n",
       "      <th>1</th>\n",
       "    </tr>\n",
       "    <tr>\n",
       "      <th>age_dv</th>\n",
       "      <th></th>\n",
       "      <th></th>\n",
       "    </tr>\n",
       "  </thead>\n",
       "  <tbody>\n",
       "    <tr>\n",
       "      <th>18-24</th>\n",
       "      <td>0.874251</td>\n",
       "      <td>0.125749</td>\n",
       "    </tr>\n",
       "    <tr>\n",
       "      <th>25-34</th>\n",
       "      <td>0.934202</td>\n",
       "      <td>0.065798</td>\n",
       "    </tr>\n",
       "    <tr>\n",
       "      <th>35-44</th>\n",
       "      <td>0.920984</td>\n",
       "      <td>0.079016</td>\n",
       "    </tr>\n",
       "    <tr>\n",
       "      <th>&gt;45</th>\n",
       "      <td>0.845794</td>\n",
       "      <td>0.154206</td>\n",
       "    </tr>\n",
       "  </tbody>\n",
       "</table>\n",
       "</div>"
      ],
      "text/plain": [
       "brew_Pod/capsule machine (e.g. Keurig/Nespresso)         0         1\n",
       "age_dv                                                              \n",
       "18-24                                             0.874251  0.125749\n",
       "25-34                                             0.934202  0.065798\n",
       "35-44                                             0.920984  0.079016\n",
       ">45                                               0.845794  0.154206"
      ]
     },
     "execution_count": 148,
     "metadata": {},
     "output_type": "execute_result"
    }
   ],
   "source": [
    "df.groupby(\"age_dv\")[\"brew_Pod/capsule machine (e.g. Keurig/Nespresso)\"].value_counts(normalize=True).unstack()"
   ]
  },
  {
   "cell_type": "code",
   "execution_count": 165,
   "metadata": {},
   "outputs": [
    {
     "data": {
      "text/html": [
       "<div>\n",
       "<style scoped>\n",
       "    .dataframe tbody tr th:only-of-type {\n",
       "        vertical-align: middle;\n",
       "    }\n",
       "\n",
       "    .dataframe tbody tr th {\n",
       "        vertical-align: top;\n",
       "    }\n",
       "\n",
       "    .dataframe thead th {\n",
       "        text-align: right;\n",
       "    }\n",
       "</style>\n",
       "<table border=\"1\" class=\"dataframe\">\n",
       "  <thead>\n",
       "    <tr style=\"text-align: right;\">\n",
       "      <th>where_At a cafe</th>\n",
       "      <th>0</th>\n",
       "      <th>1</th>\n",
       "    </tr>\n",
       "    <tr>\n",
       "      <th>age_dv</th>\n",
       "      <th></th>\n",
       "      <th></th>\n",
       "    </tr>\n",
       "  </thead>\n",
       "  <tbody>\n",
       "    <tr>\n",
       "      <th>18-24</th>\n",
       "      <td>0.595808</td>\n",
       "      <td>0.404192</td>\n",
       "    </tr>\n",
       "    <tr>\n",
       "      <th>25-34</th>\n",
       "      <td>0.663563</td>\n",
       "      <td>0.336437</td>\n",
       "    </tr>\n",
       "    <tr>\n",
       "      <th>35-44</th>\n",
       "      <td>0.727979</td>\n",
       "      <td>0.272021</td>\n",
       "    </tr>\n",
       "    <tr>\n",
       "      <th>&gt;45</th>\n",
       "      <td>0.866822</td>\n",
       "      <td>0.133178</td>\n",
       "    </tr>\n",
       "  </tbody>\n",
       "</table>\n",
       "</div>"
      ],
      "text/plain": [
       "where_At a cafe         0         1\n",
       "age_dv                             \n",
       "18-24            0.595808  0.404192\n",
       "25-34            0.663563  0.336437\n",
       "35-44            0.727979  0.272021\n",
       ">45              0.866822  0.133178"
      ]
     },
     "execution_count": 165,
     "metadata": {},
     "output_type": "execute_result"
    }
   ],
   "source": [
    "df.groupby(\"age_dv\")[\"where_At a cafe\"].value_counts(normalize=True).unstack() "
   ]
  },
  {
   "cell_type": "code",
   "execution_count": 160,
   "metadata": {},
   "outputs": [
    {
     "data": {
      "text/html": [
       "<div>\n",
       "<style scoped>\n",
       "    .dataframe tbody tr th:only-of-type {\n",
       "        vertical-align: middle;\n",
       "    }\n",
       "\n",
       "    .dataframe tbody tr th {\n",
       "        vertical-align: top;\n",
       "    }\n",
       "\n",
       "    .dataframe thead th {\n",
       "        text-align: right;\n",
       "    }\n",
       "</style>\n",
       "<table border=\"1\" class=\"dataframe\">\n",
       "  <thead>\n",
       "    <tr style=\"text-align: right;\">\n",
       "      <th>add_No - just black</th>\n",
       "      <th>0</th>\n",
       "      <th>1</th>\n",
       "    </tr>\n",
       "    <tr>\n",
       "      <th>age_dv</th>\n",
       "      <th></th>\n",
       "      <th></th>\n",
       "    </tr>\n",
       "  </thead>\n",
       "  <tbody>\n",
       "    <tr>\n",
       "      <th>18-24</th>\n",
       "      <td>0.320359</td>\n",
       "      <td>0.679641</td>\n",
       "    </tr>\n",
       "    <tr>\n",
       "      <th>25-34</th>\n",
       "      <td>0.270019</td>\n",
       "      <td>0.729981</td>\n",
       "    </tr>\n",
       "    <tr>\n",
       "      <th>35-44</th>\n",
       "      <td>0.331606</td>\n",
       "      <td>0.668394</td>\n",
       "    </tr>\n",
       "    <tr>\n",
       "      <th>&gt;45</th>\n",
       "      <td>0.457944</td>\n",
       "      <td>0.542056</td>\n",
       "    </tr>\n",
       "  </tbody>\n",
       "</table>\n",
       "</div>"
      ],
      "text/plain": [
       "add_No - just black         0         1\n",
       "age_dv                                 \n",
       "18-24                0.320359  0.679641\n",
       "25-34                0.270019  0.729981\n",
       "35-44                0.331606  0.668394\n",
       ">45                  0.457944  0.542056"
      ]
     },
     "execution_count": 160,
     "metadata": {},
     "output_type": "execute_result"
    }
   ],
   "source": [
    "df.groupby(\"age_dv\")[\"add_No - just black\"].value_counts(normalize=True).unstack() "
   ]
  },
  {
   "cell_type": "code",
   "execution_count": 183,
   "metadata": {},
   "outputs": [
    {
     "data": {
      "text/plain": [
       "<matplotlib.legend.Legend at 0x1fb6b96a550>"
      ]
     },
     "execution_count": 183,
     "metadata": {},
     "output_type": "execute_result"
    },
    {
     "data": {
      "image/png": "[encoded data removed]",
      "text/plain": [
       "<Figure size 432x288 with 1 Axes>"
      ]
     },
     "metadata": {
      "needs_background": "light"
     },
     "output_type": "display_data"
    }
   ],
   "source": [
    "test = df.groupby(\"age_dv\")[\"add_total\"].value_counts(normalize=True).unstack() \n",
    "\n",
    "#create stacked bar chart\n",
    "test.plot(kind='barh', stacked=True)\n",
    "plt.legend(loc='upper left',  bbox_to_anchor=(1, 1))"
   ]
  },
  {
   "cell_type": "code",
   "execution_count": 109,
   "metadata": {},
   "outputs": [
    {
     "data": {
      "text/plain": [
       "Index(['submission_id', 'age', 'cups', 'where_drink', 'brew', 'brew_other',\n",
       "       'purchase', 'purchase_other', 'favorite', 'favorite_specify',\n",
       "       'additions', 'additions_other', 'dairy', 'sweetener', 'style',\n",
       "       'strength', 'roast_level', 'caffeine', 'expertise',\n",
       "       'coffee_a_bitterness', 'coffee_a_acidity',\n",
       "       'coffee_a_personal_preference', 'coffee_a_notes', 'coffee_b_bitterness',\n",
       "       'coffee_b_acidity', 'coffee_b_personal_preference', 'coffee_b_notes',\n",
       "       'coffee_c_bitterness', 'coffee_c_acidity',\n",
       "       'coffee_c_personal_preference', 'coffee_c_notes', 'coffee_d_bitterness',\n",
       "       'coffee_d_acidity', 'coffee_d_personal_preference', 'coffee_d_notes',\n",
       "       'prefer_abc', 'prefer_ad', 'prefer_overall', 'wfh', 'total_spend',\n",
       "       'why_drink', 'why_drink_other', 'taste', 'know_source', 'most_paid',\n",
       "       'most_willing', 'value_cafe', 'spent_equipment', 'value_equipment',\n",
       "       'gender', 'gender_specify', 'education_level', 'ethnicity_race',\n",
       "       'ethnicity_race_specify', 'employment_status', 'number_children',\n",
       "       'political_affiliation', 'brew_Bean-to-cup machine',\n",
       "       'brew_Coffee brewing machine (e.g. Mr. Coffee)',\n",
       "       'brew_Coffee extract (e.g. Cometeer)', 'brew_Cold brew',\n",
       "       'brew_Espresso', 'brew_French press', 'brew_Instant coffee',\n",
       "       'brew_Other', 'brew_Pod/capsule machine (e.g. Keurig/Nespresso)',\n",
       "       'brew_Pour over', 'add_Cinnamon', 'add_Flavor syrup', 'add_Half & half',\n",
       "       'add_Milk', 'add_No - just black', 'add_Other',\n",
       "       'add_Sugar or sweetener', 'add_dairy alternative',\n",
       "       'add_or coffee creamer', 'where_At a cafe', 'where_At home',\n",
       "       'where_At the office', 'where_None of these', 'where_On the go',\n",
       "       'add_any milk', 'add_total', 'age_dv', 'most_paid_dv',\n",
       "       'most_willing_dv', 'cups_n', 'cups_dv', 'total_spend_dv'],\n",
       "      dtype='object')"
      ]
     },
     "execution_count": 109,
     "metadata": {},
     "output_type": "execute_result"
    }
   ],
   "source": [
    "df.columns"
   ]
  },
  {
   "cell_type": "code",
   "execution_count": 146,
   "metadata": {},
   "outputs": [
    {
     "data": {
      "text/html": [
       "<div>\n",
       "<style scoped>\n",
       "    .dataframe tbody tr th:only-of-type {\n",
       "        vertical-align: middle;\n",
       "    }\n",
       "\n",
       "    .dataframe tbody tr th {\n",
       "        vertical-align: top;\n",
       "    }\n",
       "\n",
       "    .dataframe thead th {\n",
       "        text-align: right;\n",
       "    }\n",
       "</style>\n",
       "<table border=\"1\" class=\"dataframe\">\n",
       "  <thead>\n",
       "    <tr style=\"text-align: right;\">\n",
       "      <th></th>\n",
       "      <th>count</th>\n",
       "      <th>unique</th>\n",
       "      <th>top</th>\n",
       "      <th>freq</th>\n",
       "    </tr>\n",
       "    <tr>\n",
       "      <th>age_dv</th>\n",
       "      <th></th>\n",
       "      <th></th>\n",
       "      <th></th>\n",
       "      <th></th>\n",
       "    </tr>\n",
       "  </thead>\n",
       "  <tbody>\n",
       "    <tr>\n",
       "      <th>18-24</th>\n",
       "      <td>334</td>\n",
       "      <td>6</td>\n",
       "      <td>1</td>\n",
       "      <td>135</td>\n",
       "    </tr>\n",
       "    <tr>\n",
       "      <th>25-34</th>\n",
       "      <td>1611</td>\n",
       "      <td>6</td>\n",
       "      <td>2</td>\n",
       "      <td>720</td>\n",
       "    </tr>\n",
       "    <tr>\n",
       "      <th>35-44</th>\n",
       "      <td>772</td>\n",
       "      <td>6</td>\n",
       "      <td>2</td>\n",
       "      <td>359</td>\n",
       "    </tr>\n",
       "    <tr>\n",
       "      <th>&gt;45</th>\n",
       "      <td>428</td>\n",
       "      <td>6</td>\n",
       "      <td>2</td>\n",
       "      <td>187</td>\n",
       "    </tr>\n",
       "  </tbody>\n",
       "</table>\n",
       "</div>"
      ],
      "text/plain": [
       "       count unique top freq\n",
       "age_dv                      \n",
       "18-24    334      6   1  135\n",
       "25-34   1611      6   2  720\n",
       "35-44    772      6   2  359\n",
       ">45      428      6   2  187"
      ]
     },
     "execution_count": 146,
     "metadata": {},
     "output_type": "execute_result"
    }
   ],
   "source": [
    "df.groupby(\"age_dv\")[\"cups_dv\"].describe()"
   ]
  }
 ],
 "metadata": {
  "kernelspec": {
   "display_name": "py3_viz",
   "language": "python",
   "name": "python3"
  },
  "language_info": {
   "codemirror_mode": {
    "name": "ipython",
    "version": 3
   },
   "file_extension": ".py",
   "mimetype": "text/x-python",
   "name": "python",
   "nbconvert_exporter": "python",
   "pygments_lexer": "ipython3",
   "version": "3.9.2"
  }
 },
 "nbformat": 4,
 "nbformat_minor": 2
}

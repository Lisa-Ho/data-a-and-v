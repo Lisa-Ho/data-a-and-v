{
 "cells": [
  {
   "cell_type": "markdown",
   "metadata": {},
   "source": [
    "# Moving\n",
    "\n",
    "Analysis and mapping of data to help us make a decision of where to move next in London.\n",
    "\n",
    "- Price Paid\n",
    "- OpenStreetMap (for points of interest, cycle lanes)\n",
    "- TfL cycle network\n",
    "- ONS census data"
   ]
  },
  {
   "cell_type": "code",
   "execution_count": 1,
   "metadata": {},
   "outputs": [],
   "source": [
    "import pandas as pd\n",
    "import matplotlib.pyplot as plt\n",
    "import geopandas as gpd"
   ]
  },
  {
   "cell_type": "markdown",
   "metadata": {},
   "source": [
    "## Data processing\n",
    "\n"
   ]
  },
  {
   "cell_type": "markdown",
   "metadata": {},
   "source": [
    "### Statistical data\n",
    "\n",
    "- House prices per square metre, source: [London Datastore](https://data.london.gov.uk/dataset/house-price-per-square-metre-in-england-and-wales)\n",
    "- MSOA nice names, source: [House of Commons](https://houseofcommonslibrary.github.io/msoanames/)\n",
    "- MSOA household income, source [ONS]\n",
    "- MSOA population, source [ONS]"
   ]
  },
  {
   "cell_type": "code",
   "execution_count": 28,
   "metadata": {},
   "outputs": [],
   "source": [
    "boroughs = [\"Barking_and_Dagenham\", \"Barnet\", \"Bexley\", \"Brent\", \"Bromley\", \n",
    "            \"Camden\", \"Croydon\", \"Ealing\", \"Enfield\", \"Greenwich\", \"Hackney\",\n",
    "            \"Hammersmith_and_Fulham\", \"Haringey\", \"Harrow\", \"Hillingdon\", \n",
    "            \"Islington\", \"Kensington_and_Chelsea\", \"Kingston_upon_Thames\", \"Lambeth\", \n",
    "            \"Lewisham\", \"Merton\", \"Newham\", \"Redbridge\", \"Richmond_upon_Thames\", \n",
    "            \"Southwark\", \"Sutton\", \"Tower_Hamlets\", \"Waltham_Forest\",\n",
    "            \"Wandsworth\", \"Westminster\"\n",
    "            ]"
   ]
  },
  {
   "cell_type": "code",
   "execution_count": 31,
   "metadata": {},
   "outputs": [],
   "source": [
    "# load house price data\n",
    "prices_df = []\n",
    "for borough in boroughs:\n",
    "    df = pd.read_csv(\"hpm_la_2022\\\\\" + borough + \"_link_13082022.csv\")\n",
    "    prices_df.append(df)\n",
    "\n",
    "prices_df = pd.concat(prices_df).reset_index(drop=True)"
   ]
  },
  {
   "cell_type": "code",
   "execution_count": 72,
   "metadata": {},
   "outputs": [
    {
     "data": {
      "text/plain": [
       "2378196"
      ]
     },
     "execution_count": 72,
     "metadata": {},
     "output_type": "execute_result"
    }
   ],
   "source": [
    "len(prices_df)"
   ]
  },
  {
   "cell_type": "code",
   "execution_count": null,
   "metadata": {},
   "outputs": [],
   "source": [
    "# load other data\n",
    "\n",
    "# postcode data\n",
    "postcodes_df = pd.read_csv(\"London_postcodes.csv\", low_memory=False)\n",
    "\n",
    "# income data\n",
    "inc_df = pd.read_excel(\"saiefy1920finalqaddownload280923.xlsx\", sheet_name=\"Total annual income\", skiprows=4)\n",
    "\n",
    "# population data\n",
    "pop_df = pd.read_excel(\"sape23dt4mid2020msoasyoaestimatesunformatted.xlsx\", sheet_name=\"Mid-2020 Persons\", skiprows=4)\n",
    "\n",
    "# MSOA nice names\n",
    "msoa_names = pd.read_csv(\"MSOA-Names-2.2.csv\")"
   ]
  },
  {
   "cell_type": "code",
   "execution_count": 80,
   "metadata": {},
   "outputs": [],
   "source": [
    "# merge data\n",
    "\n",
    "# MSOA code\n",
    "df = pd.merge(prices_df, postcodes_df[[\"Postcode\", 'LSOA21 Code','MSOA21 Code']], left_on=\"postcode\", right_on=\"Postcode\", how=\"left\")\n",
    "\n",
    "# merge household income\n",
    "df = pd.merge(df, inc_df[[\"MSOA code\", \"Total annual income (£)\"]], left_on=\"MSOA21 Code\", right_on=\"MSOA code\", how=\"left\")\n",
    "\n",
    "# population\n",
    "df = pd.merge(df, pop_df[[\"MSOA Code\", \"All Ages\"]], left_on=\"MSOA21 Code\", right_on=\"MSOA Code\", how=\"left\")\n",
    "\n",
    "# MSOA nice names\n",
    "df = pd.merge(df, msoa_names[[\"msoa21cd\", \"msoa21hclnm\", \"localauthorityname\"]], left_on=\"MSOA21 Code\", right_on=\"msoa21cd\", how=\"left\")"
   ]
  },
  {
   "cell_type": "code",
   "execution_count": 81,
   "metadata": {},
   "outputs": [],
   "source": [
    "# clean up\n",
    "df = df.drop(columns=['MSOA code', 'MSOA Code', 'msoa21cd']).rename(columns={ 'Total annual income (£)': \"Household income\", \n",
    "                                                                     \"All Ages\": \"Population\",\n",
    "                                                                     \"msoa21hclnm\": \"MSOA_nicename\"})"
   ]
  },
  {
   "cell_type": "code",
   "execution_count": 92,
   "metadata": {},
   "outputs": [],
   "source": [
    "# aggregate data by MSOA\n",
    "df_grouped = df.groupby([ \"lad21cd\", \"localauthorityname\",\"MSOA21 Code\", \"MSOA_nicename\", \"year\", \"propertytype\", \"numberrooms\", 'Household income', 'Population']).agg({\n",
    "    \"priceper\": \"mean\",\n",
    "    \"dateoftransfer\": \"count\",\n",
    "    \"price\": \"mean\",\n",
    "    \"CURRENT_ENERGY_EFFICIENCY\": \"mean\"\n",
    "    }).reset_index()\n",
    "\n",
    "df_grouped = df_grouped.rename(columns={\"priceper\": \"avg_priceper\", \"dateoftransfer\":\"total_counts\", \"price\": \"avg_price\", \"CURRENT_ENERGY_EFFICIENCY\": \"avg_curr_energy_efficiency\"})\n",
    "df_grouped"
   ]
  },
  {
   "cell_type": "markdown",
   "metadata": {},
   "source": [
    "### Geo data \n",
    "\n",
    "Get points of interest and boundaries for mapping\n",
    "\n",
    "- Cafes\n",
    "- Cycle lanes\n",
    "- MSOA boundaries\n"
   ]
  },
  {
   "cell_type": "code",
   "execution_count": null,
   "metadata": {},
   "outputs": [],
   "source": [
    "\n"
   ]
  },
  {
   "cell_type": "markdown",
   "metadata": {},
   "source": [
    "## Explore data"
   ]
  },
  {
   "cell_type": "code",
   "execution_count": null,
   "metadata": {},
   "outputs": [],
   "source": []
  },
  {
   "cell_type": "markdown",
   "metadata": {},
   "source": [
    "## Playground"
   ]
  },
  {
   "cell_type": "code",
   "execution_count": null,
   "metadata": {},
   "outputs": [],
   "source": [
    "## Load Price paid data \n",
    "# --> didn't use as does not contain size info\n",
    "pp_columns = [\"Identifier\", \"Price\", \"Date_of_transfer\", \"Postcode\", \"Property_type\", \"New\", \n",
    "           \"Duration\", \"PAON\", \"SAON\", \"Street\", \"Locality\", \"City\", \"District\", \"County\", \"PPD_category\", \"Record_status\"   ]\n",
    "\n",
    "pp_df = pd.read_csv(\"pp-complete.csv\", names=pp_columns)\n",
    "\n",
    "pp_df_london = pp_df[pp_df[\"County\"]==\"Greater London\".upper()]\n",
    "pp_df_london.to_csv(\"pp_complete_london.csv\", index=False)\n",
    "pp_df = pd.read_csv(\"pp_complete_london.csv\")"
   ]
  }
 ],
 "metadata": {
  "kernelspec": {
   "display_name": "london-move",
   "language": "python",
   "name": "python3"
  },
  "language_info": {
   "codemirror_mode": {
    "name": "ipython",
    "version": 3
   },
   "file_extension": ".py",
   "mimetype": "text/x-python",
   "name": "python",
   "nbconvert_exporter": "python",
   "pygments_lexer": "ipython3",
   "version": "3.10.13"
  },
  "orig_nbformat": 4
 },
 "nbformat": 4,
 "nbformat_minor": 2
}

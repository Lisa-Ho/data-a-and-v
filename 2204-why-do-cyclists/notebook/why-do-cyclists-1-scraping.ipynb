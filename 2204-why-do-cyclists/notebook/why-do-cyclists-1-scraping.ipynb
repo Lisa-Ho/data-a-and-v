{
 "cells": [
  {
   "cell_type": "code",
   "execution_count": 1,
   "id": "9d19a1f5",
   "metadata": {},
   "outputs": [],
   "source": [
    "#analysis and scraping\n",
    "import pandas as pd\n",
    "import requests\n",
    "from bs4 import BeautifulSoup\n",
    "from string import ascii_lowercase\n",
    "import json \n",
    "\n",
    "#path handling\n",
    "import os\n",
    "\n",
    "## plotting libraries\n",
    "import matplotlib.pyplot as plt\n",
    "import matplotlib as mpl\n",
    "import matplotlib.patches\n",
    "import pandas as pd\n",
    "from matplotlib import font_manager"
   ]
  },
  {
   "cell_type": "code",
   "execution_count": 2,
   "id": "064ae387",
   "metadata": {},
   "outputs": [],
   "source": [
    "# set working directory\n",
    "root = os.path.abspath(os.path.join(os.getcwd(), \"..\"))"
   ]
  },
  {
   "cell_type": "markdown",
   "id": "6f35574d",
   "metadata": {},
   "source": [
    "# Scraping"
   ]
  },
  {
   "cell_type": "markdown",
   "id": "ef18b5b1",
   "metadata": {},
   "source": [
    "## Scrape from Google Suggest"
   ]
  },
  {
   "cell_type": "code",
   "execution_count": 18,
   "id": "14f9c974",
   "metadata": {},
   "outputs": [],
   "source": [
    "#Input\n",
    "seed_kw = [\"why do cyclists\", \"why are cyclists\", \"why is cycling\", \"why does cycling\"]\n",
    "country = \"uk\" \n",
    "\n",
    "#output\n",
    "data = {\"Cyclists behaviour\": [],\"Cyclists traits\": [],\"Cycling is\": [], \"Cycling does\" : []}"
   ]
  },
  {
   "cell_type": "code",
   "execution_count": 19,
   "id": "99674d28",
   "metadata": {},
   "outputs": [],
   "source": [
    "for i in range(len(seed_kw)):\n",
    "\n",
    "    #convert seed keyword to list\n",
    "    keywords = [seed_kw[i]]\n",
    "\n",
    "    #create additional seed by appending a-z & 0-9 to it\n",
    "    for c in ascii_lowercase:\n",
    "        keywords.append(seed_kw[i]+' '+c)\n",
    "    for n in range(0,10):\n",
    "        keywords.append(seed_kw[i]+' '+str(n))\n",
    "\n",
    "    #get all suggestions from Google\n",
    "    for kw in keywords:\n",
    "        r = requests.get('http://suggestqueries.google.com/complete/search?output=toolbar&hl={}&q={}'.format(country,kw))\n",
    "        soup = BeautifulSoup(r.content, 'html.parser')\n",
    "        sugg = [sugg['data'] for sugg in soup.find_all('suggestion')]\n",
    "        data[list(data.keys())[i]].extend(sugg)"
   ]
  },
  {
   "cell_type": "code",
   "execution_count": 31,
   "id": "e35a205a",
   "metadata": {
    "scrolled": true
   },
   "outputs": [
    {
     "name": "stdout",
     "output_type": "stream",
     "text": [
      "Cyclists behaviour : 222\n",
      "Cyclists traits : 165\n",
      "Cycling is : 166\n",
      "Cycling does : 161\n"
     ]
    }
   ],
   "source": [
    "#how many suggestions per keyword\n",
    "for d in data:\n",
    "    print(d,\":\", len(data[d]))"
   ]
  },
  {
   "cell_type": "markdown",
   "id": "5e460391",
   "metadata": {},
   "source": [
    "## Scrape from Google Search Trends"
   ]
  },
  {
   "cell_type": "code",
   "execution_count": 21,
   "id": "97c976bb",
   "metadata": {},
   "outputs": [],
   "source": [
    "from pytrends.request import TrendReq\n",
    "\n",
    "pytrends = TrendReq(hl='en-UK', tz=360)"
   ]
  },
  {
   "cell_type": "code",
   "execution_count": null,
   "id": "a7c00215",
   "metadata": {},
   "outputs": [],
   "source": []
  }
 ],
 "metadata": {
  "kernelspec": {
   "display_name": "Python 3 (ipykernel)",
   "language": "python",
   "name": "python3"
  },
  "language_info": {
   "codemirror_mode": {
    "name": "ipython",
    "version": 3
   },
   "file_extension": ".py",
   "mimetype": "text/x-python",
   "name": "python",
   "nbconvert_exporter": "python",
   "pygments_lexer": "ipython3",
   "version": "3.9.2"
  }
 },
 "nbformat": 4,
 "nbformat_minor": 5
}

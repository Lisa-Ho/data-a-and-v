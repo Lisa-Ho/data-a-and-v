{
 "cells": [
  {
   "cell_type": "markdown",
   "id": "57627c29",
   "metadata": {},
   "source": [
    "# Ridge maps app\n",
    "\n",
    "Exploratory code for a streamlit app that allows users to create [ridge maps](https://pypi.org/project/ridge-map/).\n",
    "\n",
    "Users can draw an area on an interactive map using [leafmap](https://leafmap.org/). They cano customise their designs in terms of line density, colours, titles and download as images for print."
   ]
  },
  {
   "cell_type": "code",
   "execution_count": 4,
   "id": "35aa6cc8",
   "metadata": {},
   "outputs": [],
   "source": [
    "import leafmap\n",
    "\n",
    "#import matplotlib\n",
    "#import matplotlib.pyplot as plt\n",
    "#import numpy as np\n",
    "#import pandas as pd\n",
    "#from ridge_map import RidgeMap"
   ]
  },
  {
   "cell_type": "markdown",
   "id": "dfd5ba27",
   "metadata": {},
   "source": [
    "## Select coordinates"
   ]
  },
  {
   "cell_type": "code",
   "execution_count": 2,
   "id": "b791bb93",
   "metadata": {
    "scrolled": false
   },
   "outputs": [
    {
     "data": {
      "application/vnd.jupyter.widget-view+json": {
       "model_id": "cd794e5a856c44b38afdab6f5ffa66da",
       "version_major": 2,
       "version_minor": 0
      },
      "text/plain": [
       "Map(center=[20, 0], controls=(ZoomControl(options=['position', 'zoom_in_text', 'zoom_in_title', 'zoom_out_text…"
      ]
     },
     "execution_count": 2,
     "metadata": {},
     "output_type": "execute_result"
    }
   ],
   "source": [
    "# Interactive map for selection\n",
    "m = leafmap.Map(layers_control=False, \n",
    "                measure_control=False, \n",
    "                attribution_control=False,\n",
    "               fullscreen_control=False,\n",
    "               toolbar_control=False,\n",
    "               height=\"450px\", width=\"800px\")\n",
    "m"
   ]
  },
  {
   "cell_type": "code",
   "execution_count": 3,
   "id": "ca116be7",
   "metadata": {},
   "outputs": [
    {
     "data": {
      "text/plain": [
       "[]"
      ]
     },
     "execution_count": 3,
     "metadata": {},
     "output_type": "execute_result"
    }
   ],
   "source": [
    "#get coordinates from rectangle drawn on map\n",
    "bl = []\n",
    "tr = []\n",
    "\n",
    "if len(m.draw_features) == 1:\n",
    "    if m.draw_features[0]['geometry'][\"type\"] == \"Polygon\":\n",
    "        bl = m.draw_features[0]['geometry']['coordinates'][0][0]\n",
    "        tr = m.draw_features[0]['geometry']['coordinates'][0][3]\n",
    "        \n",
    "tr"
   ]
  },
  {
   "cell_type": "code",
   "execution_count": 11,
   "id": "df717bbd",
   "metadata": {
    "scrolled": true
   },
   "outputs": [
    {
     "data": {
      "text/plain": [
       "[{'type': 'Feature',\n",
       "  'properties': {},\n",
       "  'geometry': {'type': 'Polygon',\n",
       "   'coordinates': [[[-93.58181, 41.282898],\n",
       "     [-93.58181, 42.485196],\n",
       "     [-91.350599, 42.485196],\n",
       "     [-91.350599, 41.282898],\n",
       "     [-93.58181, 41.282898]]]}},\n",
       " {'type': 'Feature',\n",
       "  'properties': {},\n",
       "  'geometry': {'type': 'Point', 'coordinates': [-91.187146, 42.70047]}}]"
      ]
     },
     "execution_count": 11,
     "metadata": {},
     "output_type": "execute_result"
    }
   ],
   "source": [
    "m.draw_features"
   ]
  },
  {
   "cell_type": "markdown",
   "id": "2967ae8a",
   "metadata": {},
   "source": [
    "## Make ridge map"
   ]
  }
 ],
 "metadata": {
  "kernelspec": {
   "display_name": "Python 3 (ipykernel)",
   "language": "python",
   "name": "python3"
  },
  "language_info": {
   "codemirror_mode": {
    "name": "ipython",
    "version": 3
   },
   "file_extension": ".py",
   "mimetype": "text/x-python",
   "name": "python",
   "nbconvert_exporter": "python",
   "pygments_lexer": "ipython3",
   "version": "3.8.13"
  }
 },
 "nbformat": 4,
 "nbformat_minor": 5
}
